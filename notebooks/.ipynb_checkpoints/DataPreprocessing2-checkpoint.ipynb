{
 "cells": [
  {
   "cell_type": "code",
   "execution_count": 12,
   "id": "7e02fad5",
   "metadata": {},
   "outputs": [],
   "source": [
    "import pandas as pd\n",
    "import numpy as np\n",
    "import matplotlib.pyplot as plt\n",
    "\n",
    "import nlpaug.augmenter.char as nac\n",
    "import nlpaug.augmenter.word as naw\n",
    "import nlpaug.augmenter.sentence as nas\n",
    "\n",
    "from sklearn.model_selection import train_test_split\n",
    "\n",
    "import tqdm"
   ]
  },
  {
   "cell_type": "code",
   "execution_count": 18,
   "id": "de60472d",
   "metadata": {},
   "outputs": [],
   "source": [
    "DATA_PATH = '../data/raw/labeled_texts_fixed_binary.csv'\n",
    "DATA_DIR = '../data/raw'"
   ]
  },
  {
   "cell_type": "code",
   "execution_count": 3,
   "id": "5b768230",
   "metadata": {},
   "outputs": [],
   "source": [
    "MODEL_PATH = '../models/word2vec_embeddings/cc.ru.300.vec'"
   ]
  },
  {
   "cell_type": "code",
   "execution_count": 6,
   "id": "3979ab14",
   "metadata": {},
   "outputs": [],
   "source": [
    "df = pd.read_csv(DATA_PATH)"
   ]
  },
  {
   "cell_type": "code",
   "execution_count": 8,
   "id": "258f7887",
   "metadata": {},
   "outputs": [
    {
     "data": {
      "text/html": [
       "<div>\n",
       "<style scoped>\n",
       "    .dataframe tbody tr th:only-of-type {\n",
       "        vertical-align: middle;\n",
       "    }\n",
       "\n",
       "    .dataframe tbody tr th {\n",
       "        vertical-align: top;\n",
       "    }\n",
       "\n",
       "    .dataframe thead th {\n",
       "        text-align: right;\n",
       "    }\n",
       "</style>\n",
       "<table border=\"1\" class=\"dataframe\">\n",
       "  <thead>\n",
       "    <tr style=\"text-align: right;\">\n",
       "      <th></th>\n",
       "      <th>texts</th>\n",
       "      <th>labels</th>\n",
       "      <th>nationality</th>\n",
       "      <th>families</th>\n",
       "      <th>sex</th>\n",
       "      <th>limit</th>\n",
       "      <th>dd</th>\n",
       "      <th>joined</th>\n",
       "    </tr>\n",
       "  </thead>\n",
       "  <tbody>\n",
       "    <tr>\n",
       "      <th>0</th>\n",
       "      <td>Сдаётся студия на длительный срок в доме комфо...</td>\n",
       "      <td>Нет особенностей</td>\n",
       "      <td>0</td>\n",
       "      <td>0</td>\n",
       "      <td>0</td>\n",
       "      <td>0</td>\n",
       "      <td>['0', '0', '0', '0']</td>\n",
       "      <td>0</td>\n",
       "    </tr>\n",
       "    <tr>\n",
       "      <th>1</th>\n",
       "      <td>Раздвижной шифоньер. Сдам на долгий срок 1-к. ...</td>\n",
       "      <td>Нет особенностей</td>\n",
       "      <td>0</td>\n",
       "      <td>0</td>\n",
       "      <td>0</td>\n",
       "      <td>0</td>\n",
       "      <td>['0', '0', '0', '0']</td>\n",
       "      <td>0</td>\n",
       "    </tr>\n",
       "    <tr>\n",
       "      <th>2</th>\n",
       "      <td>Предлагается в аренду студия 30 кв.м. в СНТ Да...</td>\n",
       "      <td>Нет особенностей</td>\n",
       "      <td>0</td>\n",
       "      <td>0</td>\n",
       "      <td>0</td>\n",
       "      <td>0</td>\n",
       "      <td>['0', '0', '0', '0']</td>\n",
       "      <td>0</td>\n",
       "    </tr>\n",
       "    <tr>\n",
       "      <th>3</th>\n",
       "      <td>Сдается замечательная, светлая, просторная одн...</td>\n",
       "      <td>Нет особенностей</td>\n",
       "      <td>0</td>\n",
       "      <td>0</td>\n",
       "      <td>0</td>\n",
       "      <td>0</td>\n",
       "      <td>['0', '0', '0', '0']</td>\n",
       "      <td>0</td>\n",
       "    </tr>\n",
       "    <tr>\n",
       "      <th>4</th>\n",
       "      <td>МЕТРО 5 мин пешком!Сдается уютная , светлая кв...</td>\n",
       "      <td>Предпочтение славянам</td>\n",
       "      <td>1</td>\n",
       "      <td>0</td>\n",
       "      <td>0</td>\n",
       "      <td>0</td>\n",
       "      <td>['1', '0', '0', '0']</td>\n",
       "      <td>1000</td>\n",
       "    </tr>\n",
       "  </tbody>\n",
       "</table>\n",
       "</div>"
      ],
      "text/plain": [
       "                                               texts                 labels  \\\n",
       "0  Сдаётся студия на длительный срок в доме комфо...       Нет особенностей   \n",
       "1  Раздвижной шифоньер. Сдам на долгий срок 1-к. ...       Нет особенностей   \n",
       "2  Предлагается в аренду студия 30 кв.м. в СНТ Да...       Нет особенностей   \n",
       "3  Сдается замечательная, светлая, просторная одн...       Нет особенностей   \n",
       "4  МЕТРО 5 мин пешком!Сдается уютная , светлая кв...  Предпочтение славянам   \n",
       "\n",
       "   nationality  families  sex  limit                    dd  joined  \n",
       "0            0         0    0      0  ['0', '0', '0', '0']       0  \n",
       "1            0         0    0      0  ['0', '0', '0', '0']       0  \n",
       "2            0         0    0      0  ['0', '0', '0', '0']       0  \n",
       "3            0         0    0      0  ['0', '0', '0', '0']       0  \n",
       "4            1         0    0      0  ['1', '0', '0', '0']    1000  "
      ]
     },
     "execution_count": 8,
     "metadata": {},
     "output_type": "execute_result"
    }
   ],
   "source": [
    "df.head()"
   ]
  },
  {
   "cell_type": "markdown",
   "id": "d805210d",
   "metadata": {},
   "source": [
    "# Национальность"
   ]
  },
  {
   "cell_type": "code",
   "execution_count": 9,
   "id": "c0885ef0",
   "metadata": {},
   "outputs": [],
   "source": [
    "nationality_df = df[['texts', 'nationality']]"
   ]
  },
  {
   "cell_type": "code",
   "execution_count": 11,
   "id": "241c6e0b",
   "metadata": {},
   "outputs": [
    {
     "data": {
      "text/html": [
       "<div>\n",
       "<style scoped>\n",
       "    .dataframe tbody tr th:only-of-type {\n",
       "        vertical-align: middle;\n",
       "    }\n",
       "\n",
       "    .dataframe tbody tr th {\n",
       "        vertical-align: top;\n",
       "    }\n",
       "\n",
       "    .dataframe thead th {\n",
       "        text-align: right;\n",
       "    }\n",
       "</style>\n",
       "<table border=\"1\" class=\"dataframe\">\n",
       "  <thead>\n",
       "    <tr style=\"text-align: right;\">\n",
       "      <th></th>\n",
       "      <th>texts</th>\n",
       "      <th>nationality</th>\n",
       "    </tr>\n",
       "  </thead>\n",
       "  <tbody>\n",
       "    <tr>\n",
       "      <th>0</th>\n",
       "      <td>Сдаётся студия на длительный срок в доме комфо...</td>\n",
       "      <td>0</td>\n",
       "    </tr>\n",
       "    <tr>\n",
       "      <th>1</th>\n",
       "      <td>Раздвижной шифоньер. Сдам на долгий срок 1-к. ...</td>\n",
       "      <td>0</td>\n",
       "    </tr>\n",
       "    <tr>\n",
       "      <th>2</th>\n",
       "      <td>Предлагается в аренду студия 30 кв.м. в СНТ Да...</td>\n",
       "      <td>0</td>\n",
       "    </tr>\n",
       "    <tr>\n",
       "      <th>3</th>\n",
       "      <td>Сдается замечательная, светлая, просторная одн...</td>\n",
       "      <td>0</td>\n",
       "    </tr>\n",
       "    <tr>\n",
       "      <th>4</th>\n",
       "      <td>МЕТРО 5 мин пешком!Сдается уютная , светлая кв...</td>\n",
       "      <td>1</td>\n",
       "    </tr>\n",
       "  </tbody>\n",
       "</table>\n",
       "</div>"
      ],
      "text/plain": [
       "                                               texts  nationality\n",
       "0  Сдаётся студия на длительный срок в доме комфо...            0\n",
       "1  Раздвижной шифоньер. Сдам на долгий срок 1-к. ...            0\n",
       "2  Предлагается в аренду студия 30 кв.м. в СНТ Да...            0\n",
       "3  Сдается замечательная, светлая, просторная одн...            0\n",
       "4  МЕТРО 5 мин пешком!Сдается уютная , светлая кв...            1"
      ]
     },
     "execution_count": 11,
     "metadata": {},
     "output_type": "execute_result"
    }
   ],
   "source": [
    "nationality_df.head()"
   ]
  },
  {
   "cell_type": "code",
   "execution_count": 16,
   "id": "b6dfdbc3",
   "metadata": {},
   "outputs": [],
   "source": [
    "train_nationality_df, test_nationality_df = train_test_split(nationality_df, test_size=0.3,\n",
    "                                                             stratify=nationality_df['nationality'])"
   ]
  },
  {
   "cell_type": "code",
   "execution_count": 23,
   "id": "4141f920",
   "metadata": {},
   "outputs": [],
   "source": [
    "train_nationality_df = train_nationality_df.reset_index(drop=True)\n",
    "test_nationality_df = test_nationality_df.reset_index(drop=True)"
   ]
  },
  {
   "cell_type": "code",
   "execution_count": null,
   "id": "af41427e",
   "metadata": {},
   "outputs": [],
   "source": [
    "test_nationality_df.to_csv(DATA_DIR + 'test_nationality.csv', index=False)"
   ]
  },
  {
   "cell_type": "code",
   "execution_count": 24,
   "id": "7848135c",
   "metadata": {},
   "outputs": [
    {
     "data": {
      "text/html": [
       "<div>\n",
       "<style scoped>\n",
       "    .dataframe tbody tr th:only-of-type {\n",
       "        vertical-align: middle;\n",
       "    }\n",
       "\n",
       "    .dataframe tbody tr th {\n",
       "        vertical-align: top;\n",
       "    }\n",
       "\n",
       "    .dataframe thead th {\n",
       "        text-align: right;\n",
       "    }\n",
       "</style>\n",
       "<table border=\"1\" class=\"dataframe\">\n",
       "  <thead>\n",
       "    <tr style=\"text-align: right;\">\n",
       "      <th></th>\n",
       "      <th>texts</th>\n",
       "      <th>nationality</th>\n",
       "    </tr>\n",
       "  </thead>\n",
       "  <tbody>\n",
       "    <tr>\n",
       "      <th>0</th>\n",
       "      <td>Прекрасный угловой апартамент в потрясающем не...</td>\n",
       "      <td>0</td>\n",
       "    </tr>\n",
       "    <tr>\n",
       "      <th>1</th>\n",
       "      <td>Сдается студия,  Стиральная машина в коридоре....</td>\n",
       "      <td>1</td>\n",
       "    </tr>\n",
       "    <tr>\n",
       "      <th>2</th>\n",
       "      <td>Moscow City! Высокий этаж, не забываемый вид н...</td>\n",
       "      <td>0</td>\n",
       "    </tr>\n",
       "    <tr>\n",
       "      <th>3</th>\n",
       "      <td>Кухня-гостиная и две изолированные спальни. По...</td>\n",
       "      <td>0</td>\n",
       "    </tr>\n",
       "    <tr>\n",
       "      <th>4</th>\n",
       "      <td>ID 44193 В аренду предлагается стильная 4-комн...</td>\n",
       "      <td>0</td>\n",
       "    </tr>\n",
       "  </tbody>\n",
       "</table>\n",
       "</div>"
      ],
      "text/plain": [
       "                                               texts  nationality\n",
       "0  Прекрасный угловой апартамент в потрясающем не...            0\n",
       "1  Сдается студия,  Стиральная машина в коридоре....            1\n",
       "2  Moscow City! Высокий этаж, не забываемый вид н...            0\n",
       "3  Кухня-гостиная и две изолированные спальни. По...            0\n",
       "4  ID 44193 В аренду предлагается стильная 4-комн...            0"
      ]
     },
     "execution_count": 24,
     "metadata": {},
     "output_type": "execute_result"
    }
   ],
   "source": [
    "train_nationality_df.head()"
   ]
  },
  {
   "cell_type": "code",
   "execution_count": 19,
   "id": "49f42a66",
   "metadata": {},
   "outputs": [
    {
     "data": {
      "text/plain": [
       "0.10286399760083971"
      ]
     },
     "execution_count": 19,
     "metadata": {},
     "output_type": "execute_result"
    }
   ],
   "source": [
    "train_nationality_df['nationality'].sum() / len(train_nationality_df)"
   ]
  },
  {
   "cell_type": "code",
   "execution_count": 20,
   "id": "292ac8c9",
   "metadata": {},
   "outputs": [
    {
     "data": {
      "text/plain": [
       "0.10283315844700944"
      ]
     },
     "execution_count": 20,
     "metadata": {},
     "output_type": "execute_result"
    }
   ],
   "source": [
    "test_nationality_df['nationality'].sum() / len(test_nationality_df)"
   ]
  },
  {
   "cell_type": "code",
   "execution_count": 35,
   "id": "0ecc01cb",
   "metadata": {},
   "outputs": [],
   "source": [
    "pos_labels_fraction = test_nationality_df['nationality'].sum() / len(test_nationality_df)\n",
    "labels_ratio = (1 - pos_labels_fraction) / pos_labels_fraction\n",
    "n_texts_to_generate = int(labels_ratio)"
   ]
  },
  {
   "cell_type": "code",
   "execution_count": 27,
   "id": "af660f21",
   "metadata": {},
   "outputs": [],
   "source": [
    "positive_texts = train_nationality_df[train_nationality_df['nationality'] == 1]['texts'].values"
   ]
  },
  {
   "cell_type": "code",
   "execution_count": 42,
   "id": "28b17d24",
   "metadata": {},
   "outputs": [
    {
     "name": "stdout",
     "output_type": "stream",
     "text": [
      "CPU times: total: 0 ns\n",
      "Wall time: 0 ns\n"
     ]
    }
   ],
   "source": [
    "%%time\n",
    "aug = naw.WordEmbsAug(model_type='fasttext', model_path=MODEL_PATH, action=\"substitute\", top_k=10,\n",
    "                      stopwords=['не', 'или', 'и'])"
   ]
  },
  {
   "cell_type": "code",
   "execution_count": 43,
   "id": "91bc1974",
   "metadata": {},
   "outputs": [
    {
     "name": "stdout",
     "output_type": "stream",
     "text": [
      "Original:\n",
      "Сдается студия,  Стиральная машина в коридоре. В студии шкаф, стол,кровать, кухня, сан.узел. На длителтный срок. Без привода гостей. Одну женщину, спокойную, адекватную, РФ. Собственница проживает в соседней студии. Риелторам просьба не беспокоить. Пишите сообщения.Залог 15тыс. Пишите, не всегда могу ответить на звонки. Пожалуйста читайте об'явление - только женщине, одной! Это значит НЕ СЕМЕЙНОЙ ПАРЕ , НЕ МУЖЧИНАМ !!!\n",
      "Augmented Texts:\n",
      "[\"Сдается студией, Стиральная машина 3.В коридоре. В студии шкаф, стол, кровать, кухня., сан. узел. На длителтный срок. Никакой привода гостей. Одну женщину, спокойную, адекватную, РФ. Собственница проживает в соседней студии. Риелторам просьба не беспокоил. Пишите сообщения. Залог 15тыс. Напишите, не по-прежнему могу отвечать на звонки. Пожалуйста прочтете об ' редкое - только женщине, одной! Это значит НЕ СЕМЕЙНОЙ ПАРЕ, НЕ МУЖЧИНАМ! !!\", \"Сдается студия, Стиральная машина в коридоре. 4.В студии шкаф, стол, кровать, ванная, сан. узел. 1.На длителтный срок. Без привода гостей. Одну барышню, мирную, адекватную, РБ. Собственница проживает 7.В соседней студии. Риелторам просьба не беспокоить. Пишите сообщения. Залог 15тыс. Пишите, не всегда могу ответить наа смски. Пожалуйста Прочтите об ' явление - только женщине, одной! Это значит НЕ СЕМЕЙНОЙ ПАРЕ, НЕ МУЖЧИНАМ! !!\", \"Сдается студия, Стиральная машина в коридоре. В студии шкаф, стол, кровать, кухня, сан. узел. На длителтный срок. Без сервопривода гостей. Одну женщину, спокойную, достойную, РФ. Собственница проживаем в этой фотостудии. Риелторам просьба не беспокоить. Присылайте сообщения. Задаток 15тыс. Пишите, не всегда знаю ответить на звонки. Пожалуйста перечитайте об ' явление - только женщинам, одной! Это значит НЕ СЕМЕЙНОЙ ПАРЕ, НЕ МУЖЧИНАМ! !!\", \"Сдается студия, Стиральная автомашина в коридоре. В арт-студии шкафчик, стол, кровать, кухня, сан. узел. На длителтный срок. Без привода гостей. Одна женщину, спокойную, адекватную, РФ. Собственница проживает в соседней студии. Риелторам мольба не беспокоить. присылайте сообщения. Залог 15тыс. Предлагайте, не частенько могу ответить на звонки. Пожалуйста читайте об ' явление - только женщине, третьей! Это значит НЕ СЕМЕЙНОЙ ПАРЕ, БЫ МУЖЧИНАМ! !!\", \"Сдается студия, Холодильник машина в коридоре. -В студии шкаф, стол, кровать, кухня, сан. узел. 1.На длителтный сроки. Без привода гостей. Одну девочку, спокойную, адекватную, ФУпП. Собственница проживает в соседней студии. Риелторам настоятельная не беспокоить. Пишите объявления. Залог 15тыс. Пишите, не всегда могу ответить на звонки. Пожалуйста читайте об ' распространенное - как женщине, одной! Это значит НЕ СЕМЕЙНОЙ ПАРЕ, НЕ МУЖЧИНАМ! !!\", \"Сдается студия, Стиральная машина 3.В коридоре. В студии шкаф, стол, кровать, кухня, сану. узел. На длителтный срок. Без привода гостей. Одну женщину, тихую, адекватную, РФ. Собственница проживает в смежной студии. Риелторам просьба не беспокоить. Пишите сообщения. Депозит 15тыс. Пишите, не всегда могу ответить на звонки. Пожалуйста прочитайте .Об ' явление - только любовнице, одной! Это это ВАЩЕ СЕМЕЙНОЙ ПАРЕ, НЕ МУЖЧИНАМ! !!\", \"Сдается студия, Стиральная машина в коридоре. В студия шкаф, обеденный, диван, кухня, сан. узел. На длителтный срок. Без привода гостей. Одну женщину, спокойную, приемлемую, РФ. Собственница проживает в юго-восточной студии. Риелторам просьба не беспокоить. Пишите смс-сообщения. Залог 15тыс. Пишите, не всегда могу ответить 2.На звонки. Пожалуйста читайте об ' явление - только женщинам, одной! Это значит ВАЩЕ СЕМЕЙНОЙ ПАРЕ, ТОЖЕ МУЖЧИНАМ! !!\", \"Сдается студия, Стиральная малолитражка в коридоре. В фотостудии шкафа, стол, кровать, кухня, сан. узел. На длителтный срок. Без привода гостей. Одну женщину, безмятежную, качественную, РК. Собственница проживает в соседней студии. Риелторам просьба не беспокоить. Пишите сообщения. Залог 15тыс. Пишите, не всегда могу ответить на звонок. Пожалуйста Прочитайте о ' явление - только женщине, одной! Это значит НЕ СЕМЕЙНОЙ ПАРЕ, БЫ МУЖЧИНАМ! !!\", \"Сдается студия, Стиральная машина в вестибюле. В студии комод, стол, кровать, кухня, сан. узел. На длителтный сроки. Без приводом гостей. Одну женщину, спокойную, адекватную, РК. Собственница проживает в соседней студии. Риелторам просим не беспокоить. Пишите заявления. Залог 15тыс. Пишите, не всегда могу ответить на звонки. Пожалуйста читайте об ' феномен - потому женщине, одной! Это значит ТУПО СЕМЕЙНОЙ ПАРЕ, НЕ МУЖЧИНАМ! !!\", \"Сдается студия, Стиральные машина- в коридоре. В студии шкаф, стол, кровать, кухня, сан. узел. .На длителтный срок. Без привода гостя. Одну даму, спокойную, адекватную, РФ. Собственница проживает в соседней студии. Риелторам просьба не беспокоить. Пишите сообщения. Залог 15тыс. Обращайтесь, не всегда могу ответить на звонки. Пожалуйста почитайте об ' явление - только женщине, одной-единственной! Оно понимаете НЕ СЕМЕЙНОЙ ПАРЕ, НЕ МУЖЧИНАМ! !!\"]\n"
     ]
    }
   ],
   "source": [
    "augmented_texts = aug.augment(positive_texts[0], n=8)\n",
    "print(\"Original:\")\n",
    "print(positive_texts[0])\n",
    "print(\"Augmented Texts:\")\n",
    "print(augmented_texts)"
   ]
  },
  {
   "cell_type": "code",
   "execution_count": null,
   "id": "9483a53b",
   "metadata": {},
   "outputs": [],
   "source": [
    "%%time\n",
    "augmented_texts = []\n",
    "for text in positive_texts:\n",
    "    augmented_texts += aug.augment(text, n=n_texts_to_generate)"
   ]
  },
  {
   "cell_type": "code",
   "execution_count": null,
   "id": "b106271e",
   "metadata": {},
   "outputs": [],
   "source": [
    "len(augmented_texts)"
   ]
  },
  {
   "cell_type": "code",
   "execution_count": null,
   "id": "9d616558",
   "metadata": {},
   "outputs": [],
   "source": [
    "augmented_texts_df = pd.DataFrame({'texts': augmented_texts, 'labels': [1] * len(augmented_texts)})"
   ]
  }
 ],
 "metadata": {
  "kernelspec": {
   "display_name": "adsnlpproject",
   "language": "python",
   "name": "adsnlpproject"
  },
  "language_info": {
   "codemirror_mode": {
    "name": "ipython",
    "version": 3
   },
   "file_extension": ".py",
   "mimetype": "text/x-python",
   "name": "python",
   "nbconvert_exporter": "python",
   "pygments_lexer": "ipython3",
   "version": "3.10.6"
  }
 },
 "nbformat": 4,
 "nbformat_minor": 5
}
