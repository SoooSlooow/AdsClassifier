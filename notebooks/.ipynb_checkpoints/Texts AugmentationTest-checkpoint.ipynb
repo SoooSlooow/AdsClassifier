{
 "cells": [
  {
   "cell_type": "code",
   "execution_count": 21,
   "id": "1eb9e611",
   "metadata": {},
   "outputs": [],
   "source": [
    "import numpy as np\n",
    "import pandas as pd\n",
    "import matplotlib.pyplot as plt\n",
    "\n",
    "import nlpaug.augmenter.char as nac\n",
    "import nlpaug.augmenter.word as naw\n",
    "import nlpaug.augmenter.sentence as nas\n",
    "import nlpaug.flow as nafc\n",
    "\n",
    "from nlpaug.util import Action"
   ]
  },
  {
   "cell_type": "code",
   "execution_count": 2,
   "id": "bf753a6c",
   "metadata": {},
   "outputs": [],
   "source": [
    "DATA_PATH = '../data/raw/labeled_texts_fixed_binary.csv'"
   ]
  },
  {
   "cell_type": "code",
   "execution_count": 38,
   "id": "d5404b8a",
   "metadata": {},
   "outputs": [],
   "source": [
    "MODEL_PATH = '../models/word2vec_embeddings/cc.ru.300.vec'"
   ]
  },
  {
   "cell_type": "code",
   "execution_count": 13,
   "id": "e6fd652a",
   "metadata": {},
   "outputs": [],
   "source": [
    "df = pd.read_csv(DATA_PATH)"
   ]
  },
  {
   "cell_type": "code",
   "execution_count": 14,
   "id": "902f84e9",
   "metadata": {},
   "outputs": [],
   "source": [
    "texts = (df[df['sex'] == 1]['texts']).reset_index(drop=True)"
   ]
  },
  {
   "cell_type": "code",
   "execution_count": 22,
   "id": "dffe9a57",
   "metadata": {},
   "outputs": [],
   "source": [
    "rus_text = texts[0]\n",
    "text = 'The quick brown fox jumps over the lazy dog .'"
   ]
  },
  {
   "cell_type": "code",
   "execution_count": 23,
   "id": "11183bbe",
   "metadata": {},
   "outputs": [
    {
     "data": {
      "text/plain": [
       "'Сдается на длительный срок новая квартира (еще никто не жил) для граждан РФ, славяне - девушке или семье из 2х человек без животных и детей, других просьба не беспокоить. Залог 1 месяц. Оплата за свет и воду оплачивается отдельно. Риелторам и третьим лицам просьба не беспокоить.  Не тратьте зря свое и мое время. Звонить с 9 до 21.'"
      ]
     },
     "execution_count": 23,
     "metadata": {},
     "output_type": "execute_result"
    }
   ],
   "source": [
    "rus_text"
   ]
  },
  {
   "cell_type": "markdown",
   "id": "4e27b27b",
   "metadata": {},
   "source": [
    "# Символьная аугментация"
   ]
  },
  {
   "cell_type": "code",
   "execution_count": 34,
   "id": "5bbd52ca",
   "metadata": {},
   "outputs": [],
   "source": [
    "aug = nac.OcrAug()\n",
    "#aug = nac.KeyboardAug()"
   ]
  },
  {
   "cell_type": "code",
   "execution_count": 35,
   "id": "a8049283",
   "metadata": {},
   "outputs": [
    {
     "name": "stdout",
     "output_type": "stream",
     "text": [
      "Original:\n",
      "The quick brown fox jumps over the lazy dog .\n",
      "Augmented Text:\n",
      "['The quick brown fux jumps over the lazy dog.']\n"
     ]
    }
   ],
   "source": [
    "augmented_text = aug.augment(text)\n",
    "print(\"Original:\")\n",
    "print(text)\n",
    "print(\"Augmented Text:\")\n",
    "print(augmented_text)"
   ]
  },
  {
   "cell_type": "code",
   "execution_count": 36,
   "id": "36a838fc",
   "metadata": {},
   "outputs": [
    {
     "name": "stdout",
     "output_type": "stream",
     "text": [
      "Original:\n",
      "Сдается на длительный срок новая квартира (еще никто не жил) для граждан РФ, славяне - девушке или семье из 2х человек без животных и детей, других просьба не беспокоить. Залог 1 месяц. Оплата за свет и воду оплачивается отдельно. Риелторам и третьим лицам просьба не беспокоить.  Не тратьте зря свое и мое время. Звонить с 9 до 21.\n",
      "Augmented Text:\n",
      "['Сдается на длительный срок новая квартира (еще никто не жил) для граждан РФ, славяне - девушке или семье из zх человек без животных и детей, других просьба не беспокоить. Залог 1 месяц. Оплата за свет и воду оплачивается отдельно. Риелторам и третьим лицам просьба не беспокоить. Не тратьте зря свое и мое время. Звонить с q до 21.']\n"
     ]
    }
   ],
   "source": [
    "augmented_rus_text = aug.augment(rus_text)\n",
    "print(\"Original:\")\n",
    "print(rus_text)\n",
    "print(\"Augmented Text:\")\n",
    "print(augmented_rus_text)"
   ]
  },
  {
   "cell_type": "markdown",
   "id": "c4223a51",
   "metadata": {},
   "source": [
    "# Аугментация по словам"
   ]
  },
  {
   "cell_type": "code",
   "execution_count": 37,
   "id": "45f402e9",
   "metadata": {},
   "outputs": [
    {
     "name": "stdout",
     "output_type": "stream",
     "text": [
      "Original:\n",
      "The quick brown fox jumps over the lazy dog .\n",
      "Augmented Texts:\n",
      "['The quikly brown fox jumps other the lazy do.', 'The quick brow fox jumps over the lazing gog.', 'The quick bround fox jumps ower the lazy dof.']\n"
     ]
    }
   ],
   "source": [
    "aug = naw.SpellingAug()\n",
    "augmented_texts = aug.augment(text, n=3)\n",
    "print(\"Original:\")\n",
    "print(text)\n",
    "print(\"Augmented Texts:\")\n",
    "print(augmented_texts)"
   ]
  },
  {
   "cell_type": "code",
   "execution_count": 65,
   "id": "1fc9368e",
   "metadata": {},
   "outputs": [
    {
     "name": "stdout",
     "output_type": "stream",
     "text": [
      "CPU times: total: 0 ns\n",
      "Wall time: 521 µs\n"
     ]
    }
   ],
   "source": [
    "%%time\n",
    "aug = naw.WordEmbsAug(model_type='fasttext', model_path=MODEL_PATH, action=\"substitute\", top_k=10)"
   ]
  },
  {
   "cell_type": "code",
   "execution_count": 68,
   "id": "0e9d8812",
   "metadata": {},
   "outputs": [
    {
     "name": "stdout",
     "output_type": "stream",
     "text": [
      "Original:\n",
      "Сдается на длительный срок новая квартира (еще никто не жил) для граждан РФ, славяне - девушке или семье из 2х человек без животных и детей, других просьба не беспокоить. Залог 1 месяц. Оплата за свет и воду оплачивается отдельно. Риелторам и третьим лицам просьба не беспокоить.  Не тратьте зря свое и мое время. Звонить с 9 до 21.\n",
      "Augmented Texts:\n",
      "['Сдается на длительный срок новая квартира (еще никто не жил) для людей РФ, славяне - девушке или семье из 2х человек без животных и детей, вышеперечисленных просьба .Не беспокоить. Залог 1 месяц-. Оплата на свет- и дождевую оплачивается отдельно. Риелторам и третьим лицам просьба не беспокоить. Не тратьте неслучайно свое и ваше время. Звонить .с 9 до 21.', 'Сдается на краткосрочный срок новая пятикомнатная (еще никто не живший) для граждан РФ, славяне - девушке или семье из 3-x человек. без животных ну детей, других Просим не беспокоить. Залог 1 месяц. Оплата за свет и воду возмещается отдельно. Риелторам и вторым лицам просьба не беспокоить. Не тратьте зазря свое и мое время. Звонить с 9 до 21.', 'Сдам на длительный срок новая квартира (еще никто не поселился) для граждан РФ, славяне - девушке или семье из 2х человек без животных и детей, аналогичных просьба не беспокоить. Залог 7 месяца. Оплата за свет и воду оплачивается отдельно. Риелторам и третьим лицам просьба не беспокоили. 2.Не тратьте зря свое тд. мое время. Звони с 9 вплоть 21.', 'Сдается на долговременный срок новая квартира (еще никто не жил) для граждан РФ, славяне - девушке или семье. из 2х человек без животных и малышей, вышеперечисленных просьба не побеспокоить. Залог 7 месяц. Оплата за свет и воду оплачивается отдельно. Риелторам и третьим лицам просим не беспокоить. Hе потратьте зря свое и мое время-. Звонить с 9 до 21.', 'Сдается на длительный срок новая 3-комнатная (еще никто не жил) для граждан РФ, славян - девушке или семье .Из 2х человек без животных Он детей, других просьба не беспокоить. Залог 1 месяц. Оплата за свет и воду оплачивается отдельный. Риелторам Он третьим лицам настоятельная уж побеспокоить. Не тратьте впустую свое и мое время. Звонить с 9 до 21.', 'Сдается на длительный срок новая квартира (еще никто не проживал) для россиян РФ, славяне - девушке или семьях из 3х человек без животных и деток, других просьба не беспокоить. Залог 6 месяц. Оплата за свет и воду оплачивается отдельно. Риелторам и третьим лицам убедительная но беспокоить. Не трать зря свое и Ваше время. Звонить с 9 до 21.', 'Сдается наа длительный сроком старая квартира (наверно никто не жил) для граждан РФ, славяне - девушке или семье из 2х человек без животных и детей, других просьба не волновать. Залог 1 полмесяца. Оплата на свет и воду оплачивается отдельно. Риелторам Он третьим лицам просьба ни беспокоить. Не тратьте зря свое и личное время. Звонить с 9 до 21.', 'Сдается на длительный срок полноценная квартира (еще никто не жил) доя граждан РК, славяне - девушке или семье из 8ми человек без животных Он деток, других просьба не. беспокоить. Залог 1 месяц.. Оплата за свет и воду оплачивается отдельно. Риелторам и третьим лицам просьба не беспокоить. Не тратьте неспроста свое и мое время. перезванивать с 9 до 21.', 'Сдам на долгосрочный срок новая квартира (еще никто не жил) для пенсионеров РФ, славяне - девушке или семье из 2х человек без животных и детишек, вышеназванных просьба не беспокоить. Залог 3 месяц. Оплата за свет и воду возмещается отдельно. Риелторам и девятым лицам просьба не беспокоить. Не тратьте зря свое Он мое время. Звонить -с 9 до 21.', 'Сдается на длительный срока новая квартира (еще никто ни обитал) для граждан РФ, славяне - девушке т.е. семье из 2х человек безо кошек и детей, других просьба ни беспокоили. Залог 1 месяц. Оплата за свет и воду оплачивается отдельно. Риелторам и третьим лицам просьба не беспокоить. Не тратя зря свое и мое время. Звонить с 8 до 21.']\n"
     ]
    }
   ],
   "source": [
    "augmented_texts = aug.augment(rus_text, n=10)\n",
    "print(\"Original:\")\n",
    "print(rus_text)\n",
    "print(\"Augmented Texts:\")\n",
    "print(augmented_texts)"
   ]
  },
  {
   "cell_type": "code",
   "execution_count": 59,
   "id": "a98609ec",
   "metadata": {},
   "outputs": [],
   "source": [
    "naw.WordEmbsAug?"
   ]
  },
  {
   "cell_type": "code",
   "execution_count": null,
   "id": "e68de6a0",
   "metadata": {},
   "outputs": [],
   "source": []
  }
 ],
 "metadata": {
  "kernelspec": {
   "display_name": "adsnlpproject",
   "language": "python",
   "name": "adsnlpproject"
  },
  "language_info": {
   "codemirror_mode": {
    "name": "ipython",
    "version": 3
   },
   "file_extension": ".py",
   "mimetype": "text/x-python",
   "name": "python",
   "nbconvert_exporter": "python",
   "pygments_lexer": "ipython3",
   "version": "3.10.6"
  }
 },
 "nbformat": 4,
 "nbformat_minor": 5
}
