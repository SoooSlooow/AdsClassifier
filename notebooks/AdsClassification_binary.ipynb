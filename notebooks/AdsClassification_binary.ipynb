{
 "cells": [
  {
   "cell_type": "code",
   "execution_count": 1,
   "id": "100c60aa",
   "metadata": {},
   "outputs": [],
   "source": [
    "import gensim\n",
    "import numpy as np\n",
    "import pandas as pd\n",
    "from gensim.models import KeyedVectors\n",
    "from gensim.models import Word2Vec\n",
    "from nltk.tokenize import WordPunctTokenizer\n",
    "from sklearn.decomposition import PCA\n",
    "from sklearn.preprocessing import StandardScaler\n",
    "from collections import Counter\n",
    "import torch\n",
    "import torch.nn as nn\n",
    "import torch.nn.functional as F\n",
    "from sklearn.model_selection import train_test_split\n",
    "from sklearn.metrics import roc_auc_score\n",
    "import tqdm"
   ]
  },
  {
   "cell_type": "code",
   "execution_count": 2,
   "id": "77c6b319",
   "metadata": {},
   "outputs": [],
   "source": [
    "device = 'cuda' if torch.cuda.is_available() else 'cpu'"
   ]
  },
  {
   "cell_type": "code",
   "execution_count": 3,
   "id": "b66aaf41",
   "metadata": {},
   "outputs": [],
   "source": [
    "DATA_PATH = '../data/raw/labeled_texts_fixed.csv'"
   ]
  },
  {
   "cell_type": "code",
   "execution_count": 4,
   "id": "0a384511",
   "metadata": {},
   "outputs": [],
   "source": [
    "df = pd.read_csv(DATA_PATH)"
   ]
  },
  {
   "cell_type": "markdown",
   "id": "08f9e830",
   "metadata": {},
   "source": [
    "# Готовый word2vec"
   ]
  },
  {
   "cell_type": "code",
   "execution_count": 5,
   "id": "f25878a5",
   "metadata": {},
   "outputs": [
    {
     "name": "stdout",
     "output_type": "stream",
     "text": [
      "CPU times: total: 5min 49s\n",
      "Wall time: 6min 56s\n"
     ]
    }
   ],
   "source": [
    "%%time\n",
    "ru_emb = KeyedVectors.load_word2vec_format(\"../models/word2vec_embeddings/cc.ru.300.vec\")"
   ]
  },
  {
   "cell_type": "markdown",
   "id": "5089245b",
   "metadata": {},
   "source": [
    "# Самостоятельное обучение"
   ]
  },
  {
   "cell_type": "code",
   "execution_count": 49,
   "id": "57219498",
   "metadata": {},
   "outputs": [],
   "source": [
    "texts = list(df['texts'])"
   ]
  },
  {
   "cell_type": "code",
   "execution_count": 50,
   "id": "da1e34c5",
   "metadata": {},
   "outputs": [],
   "source": [
    "tokenizer = WordPunctTokenizer()"
   ]
  },
  {
   "cell_type": "code",
   "execution_count": 51,
   "id": "2d04cb5e",
   "metadata": {},
   "outputs": [],
   "source": [
    "data_tok = [tokenizer.tokenize(str(text).lower()) for text in texts]"
   ]
  },
  {
   "cell_type": "code",
   "execution_count": 52,
   "id": "f3bc88bd",
   "metadata": {},
   "outputs": [],
   "source": [
    "train_tokens, test_tokens, y_train, y_test = train_test_split(data_tok, df['nationality'], test_size=0.2)"
   ]
  },
  {
   "cell_type": "code",
   "execution_count": 53,
   "id": "f1dd46c7",
   "metadata": {},
   "outputs": [
    {
     "data": {
      "text/plain": [
       "0.10076095512988717"
      ]
     },
     "execution_count": 53,
     "metadata": {},
     "output_type": "execute_result"
    }
   ],
   "source": [
    "y_train.mean()"
   ]
  },
  {
   "cell_type": "code",
   "execution_count": 54,
   "id": "056a7598",
   "metadata": {},
   "outputs": [
    {
     "data": {
      "text/plain": [
       "1906"
      ]
     },
     "execution_count": 54,
     "metadata": {},
     "output_type": "execute_result"
    }
   ],
   "source": [
    "len(test_tokens)"
   ]
  },
  {
   "cell_type": "code",
   "execution_count": 55,
   "id": "f37b70ca",
   "metadata": {},
   "outputs": [
    {
     "name": "stdout",
     "output_type": "stream",
     "text": [
      "CPU times: total: 22.8 s\n",
      "Wall time: 9.56 s\n"
     ]
    }
   ],
   "source": [
    "%%time\n",
    "model = Word2Vec(train_tokens, \n",
    "                 vector_size=300,      # embedding vector size\n",
    "                 min_count=0,  # consider words that occured at least 5 times\n",
    "                 window=5).wv  # define context as a 5-word window around the target word"
   ]
  },
  {
   "cell_type": "code",
   "execution_count": 56,
   "id": "bf7a4910",
   "metadata": {},
   "outputs": [
    {
     "data": {
      "text/plain": [
       "<gensim.models.keyedvectors.KeyedVectors at 0x2181a15eec0>"
      ]
     },
     "execution_count": 56,
     "metadata": {},
     "output_type": "execute_result"
    }
   ],
   "source": [
    "model"
   ]
  },
  {
   "cell_type": "code",
   "execution_count": 57,
   "id": "5997cfc1",
   "metadata": {},
   "outputs": [],
   "source": [
    "class Dictionaries():\n",
    "        \n",
    "        def __init__(self, tokens):\n",
    "            self.count_tokens(tokens)\n",
    "\n",
    "            self.idx_to_word = ['PAD', 'UNK'] + list(self.words_counter.keys())\n",
    "            self.word_to_idx = {key: i for i, key in enumerate(self.idx_to_word)}\n",
    "            #self.idx_counter = [self.words_counter[word] for word in self.idx_to_word]\n",
    "            self.amount_of_words = len(self.idx_to_word)\n",
    "\n",
    "            self.indexed_tokens = []\n",
    "            for tokens_string in tokens:\n",
    "                self.indexed_tokens.append(self.index_tokens(tokens_string))\n",
    "                \n",
    "        def count_tokens(self, tokens):\n",
    "            self.words_counter = Counter()\n",
    "            self.amount_of_tokens = 0\n",
    "            for s in tokens:\n",
    "                self.words_counter.update(s)\n",
    "                self.amount_of_tokens += len(s)\n",
    "                \n",
    "        def index_tokens(self, tokens_string):\n",
    "            return([self.word_to_idx[token] for token in tokens_string])\n",
    "        "
   ]
  },
  {
   "cell_type": "code",
   "execution_count": 58,
   "id": "a20cd027",
   "metadata": {},
   "outputs": [],
   "source": [
    "data_dicts = Dictionaries(train_tokens)\n",
    "idx_to_word = data_dicts.idx_to_word\n",
    "word_to_idx = data_dicts.word_to_idx\n",
    "pad_idx = 0\n",
    "unk_idx = 1"
   ]
  },
  {
   "cell_type": "code",
   "execution_count": 59,
   "id": "e739d9df",
   "metadata": {},
   "outputs": [],
   "source": [
    "def index_tokens(tokens_string):\n",
    "    return([word_to_idx.get(token, unk_idx) for token in tokens_string])\n",
    "\n",
    "def fill_with_pads(tokens, pad_idx=0):\n",
    "    max_len = 0\n",
    "    for tokens_string in tokens:\n",
    "        max_len = max(max_len, len(tokens_string))\n",
    "    for tokens_string in tokens:\n",
    "        for i in range(len(tokens_string), max_len):\n",
    "            tokens_string.append(pad_idx)\n",
    "    return tokens\n",
    "\n",
    "def as_matrix(tokens):\n",
    "    for j, s in enumerate(tokens):\n",
    "        tokens[j] = index_tokens(s)\n",
    "    tokens = torch.tensor(fill_with_pads(tokens, pad_idx=pad_idx), dtype=torch.int)\n",
    "    return tokens\n",
    "\n",
    "def batch_generator(tokens, labels, batch_size=16):\n",
    "    for i in range(0, len(tokens), batch_size):\n",
    "        batch = tokens[i: i + batch_size]\n",
    "        batch_labels = torch.tensor(labels.values[i: i + batch_size], dtype=torch.long)\n",
    "        yield as_matrix(batch), batch_labels"
   ]
  },
  {
   "cell_type": "code",
   "execution_count": 60,
   "id": "99b2b646",
   "metadata": {},
   "outputs": [
    {
     "data": {
      "text/plain": [
       "torch.Size([16, 218])"
      ]
     },
     "execution_count": 60,
     "metadata": {},
     "output_type": "execute_result"
    }
   ],
   "source": [
    "a = as_matrix(train_tokens[:16])\n",
    "a.size()"
   ]
  },
  {
   "cell_type": "code",
   "execution_count": 61,
   "id": "61caa3c9",
   "metadata": {},
   "outputs": [],
   "source": [
    "vectors = np.zeros((len(idx_to_word), 300))\n",
    "vectors[0, :] = np.zeros(300)\n",
    "vectors[1, :] = (np.random.rand(300) - 0.5) / 300\n",
    "for i in range(2, len(idx_to_word)):\n",
    "    vectors[i, :] = model.get_vector(idx_to_word[i])"
   ]
  },
  {
   "cell_type": "code",
   "execution_count": 62,
   "id": "f199ce7f",
   "metadata": {},
   "outputs": [],
   "source": [
    "class ConvNN(nn.Module):\n",
    "    def __init__(self):\n",
    "        super().__init__()\n",
    "        self.emb = nn.Embedding(data_dicts.amount_of_words, 300)\n",
    "        self.emb.load_state_dict({'weight': torch.tensor(vectors)})\n",
    "        self.conv = nn.Sequential(\n",
    "            nn.Conv1d(300, 300, kernel_size=5),\n",
    "            nn.ReLU(),\n",
    "            nn.AdaptiveMaxPool1d(output_size=1)\n",
    "        )\n",
    "        self.linear = nn.Linear(300, 2)\n",
    "    def forward(self, batch):\n",
    "        emb = self.emb(batch)\n",
    "        conv = self.conv(emb.transpose(1, 2))\n",
    "        out = self.linear(conv.squeeze())\n",
    "        return F.softmax(out)"
   ]
  },
  {
   "cell_type": "code",
   "execution_count": 63,
   "id": "4eb210ca",
   "metadata": {},
   "outputs": [],
   "source": [
    "nnet = ConvNN()\n",
    "criterion = nn.CrossEntropyLoss()\n",
    "optimizer = torch.optim.SGD(nnet.parameters(), lr=1e-3)"
   ]
  },
  {
   "cell_type": "code",
   "execution_count": 64,
   "id": "f8e29cec",
   "metadata": {},
   "outputs": [],
   "source": [
    "test_tokens_as_matrix = as_matrix(test_tokens)"
   ]
  },
  {
   "cell_type": "code",
   "execution_count": 65,
   "id": "2bf340d0",
   "metadata": {},
   "outputs": [],
   "source": [
    "from IPython.display import clear_output\n",
    "import matplotlib.pyplot as plt"
   ]
  },
  {
   "cell_type": "code",
   "execution_count": 66,
   "id": "99cd9113",
   "metadata": {},
   "outputs": [],
   "source": [
    "EPOCHS = 100\n",
    "BATCH_SIZE = 16\n",
    "train_scores = []\n",
    "test_scores = []\n",
    "test_aucs = []"
   ]
  },
  {
   "cell_type": "code",
   "execution_count": 67,
   "id": "712bab19",
   "metadata": {},
   "outputs": [
    {
     "name": "stdout",
     "output_type": "stream",
     "text": [
      "auc 0.47740638435321114\n",
      "score 0.4256359040737152\n"
     ]
    },
    {
     "data": {
      "image/png": "[encoded data removed]",
      "text/plain": [
       "<Figure size 640x480 with 1 Axes>"
      ]
     },
     "metadata": {},
     "output_type": "display_data"
    },
    {
     "data": {
      "application/vnd.jupyter.widget-view+json": {
       "model_id": "c12fa77d4e3347b6954b48920d72a746",
       "version_major": 2,
       "version_minor": 0
      },
      "text/plain": [
       "  0%|          | 0/476 [00:00<?, ?it/s]"
      ]
     },
     "metadata": {},
     "output_type": "display_data"
    },
    {
     "name": "stderr",
     "output_type": "stream",
     "text": [
      "C:\\Users\\andre\\AppData\\Local\\Temp\\ipykernel_11884\\1322264490.py:16: UserWarning: Implicit dimension choice for softmax has been deprecated. Change the call to include dim=X as an argument.\n",
      "  return F.softmax(out)\n"
     ]
    },
    {
     "name": "stdout",
     "output_type": "stream",
     "text": [
      "0.31454235315322876\n"
     ]
    },
    {
     "ename": "KeyboardInterrupt",
     "evalue": "",
     "output_type": "error",
     "traceback": [
      "\u001b[1;31m---------------------------------------------------------------------------\u001b[0m",
      "\u001b[1;31mKeyboardInterrupt\u001b[0m                         Traceback (most recent call last)",
      "Cell \u001b[1;32mIn [67], line 5\u001b[0m\n\u001b[0;32m      3\u001b[0m batches \u001b[38;5;241m=\u001b[39m batch_generator(train_tokens, y_train, batch_size\u001b[38;5;241m=\u001b[39mBATCH_SIZE)\n\u001b[0;32m      4\u001b[0m \u001b[38;5;28;01mfor\u001b[39;00m i, batch \u001b[38;5;129;01min\u001b[39;00m tqdm\u001b[38;5;241m.\u001b[39mnotebook\u001b[38;5;241m.\u001b[39mtqdm(\u001b[38;5;28menumerate\u001b[39m(batches), total\u001b[38;5;241m=\u001b[39m\u001b[38;5;28mlen\u001b[39m(train_tokens) \u001b[38;5;241m/\u001b[39m\u001b[38;5;241m/\u001b[39m BATCH_SIZE):\n\u001b[1;32m----> 5\u001b[0m     pred \u001b[38;5;241m=\u001b[39m nnet(batch[\u001b[38;5;241m0\u001b[39m])\n\u001b[0;32m      6\u001b[0m     loss \u001b[38;5;241m=\u001b[39m criterion(pred, batch[\u001b[38;5;241m1\u001b[39m])\n\u001b[0;32m      7\u001b[0m     optimizer\u001b[38;5;241m.\u001b[39mzero_grad()\n",
      "File \u001b[1;32m~\\PycharmProjects\\AdClassificationProject\\venv\\lib\\site-packages\\torch\\nn\\modules\\module.py:1190\u001b[0m, in \u001b[0;36mModule._call_impl\u001b[1;34m(self, *input, **kwargs)\u001b[0m\n\u001b[0;32m   1186\u001b[0m \u001b[38;5;66;03m# If we don't have any hooks, we want to skip the rest of the logic in\u001b[39;00m\n\u001b[0;32m   1187\u001b[0m \u001b[38;5;66;03m# this function, and just call forward.\u001b[39;00m\n\u001b[0;32m   1188\u001b[0m \u001b[38;5;28;01mif\u001b[39;00m \u001b[38;5;129;01mnot\u001b[39;00m (\u001b[38;5;28mself\u001b[39m\u001b[38;5;241m.\u001b[39m_backward_hooks \u001b[38;5;129;01mor\u001b[39;00m \u001b[38;5;28mself\u001b[39m\u001b[38;5;241m.\u001b[39m_forward_hooks \u001b[38;5;129;01mor\u001b[39;00m \u001b[38;5;28mself\u001b[39m\u001b[38;5;241m.\u001b[39m_forward_pre_hooks \u001b[38;5;129;01mor\u001b[39;00m _global_backward_hooks\n\u001b[0;32m   1189\u001b[0m         \u001b[38;5;129;01mor\u001b[39;00m _global_forward_hooks \u001b[38;5;129;01mor\u001b[39;00m _global_forward_pre_hooks):\n\u001b[1;32m-> 1190\u001b[0m     \u001b[38;5;28;01mreturn\u001b[39;00m forward_call(\u001b[38;5;241m*\u001b[39m\u001b[38;5;28minput\u001b[39m, \u001b[38;5;241m*\u001b[39m\u001b[38;5;241m*\u001b[39mkwargs)\n\u001b[0;32m   1191\u001b[0m \u001b[38;5;66;03m# Do not call functions when jit is used\u001b[39;00m\n\u001b[0;32m   1192\u001b[0m full_backward_hooks, non_full_backward_hooks \u001b[38;5;241m=\u001b[39m [], []\n",
      "Cell \u001b[1;32mIn [62], line 14\u001b[0m, in \u001b[0;36mConvNN.forward\u001b[1;34m(self, batch)\u001b[0m\n\u001b[0;32m     12\u001b[0m \u001b[38;5;28;01mdef\u001b[39;00m \u001b[38;5;21mforward\u001b[39m(\u001b[38;5;28mself\u001b[39m, batch):\n\u001b[0;32m     13\u001b[0m     emb \u001b[38;5;241m=\u001b[39m \u001b[38;5;28mself\u001b[39m\u001b[38;5;241m.\u001b[39memb(batch)\n\u001b[1;32m---> 14\u001b[0m     conv \u001b[38;5;241m=\u001b[39m \u001b[38;5;28;43mself\u001b[39;49m\u001b[38;5;241;43m.\u001b[39;49m\u001b[43mconv\u001b[49m\u001b[43m(\u001b[49m\u001b[43memb\u001b[49m\u001b[38;5;241;43m.\u001b[39;49m\u001b[43mtranspose\u001b[49m\u001b[43m(\u001b[49m\u001b[38;5;241;43m1\u001b[39;49m\u001b[43m,\u001b[49m\u001b[43m \u001b[49m\u001b[38;5;241;43m2\u001b[39;49m\u001b[43m)\u001b[49m\u001b[43m)\u001b[49m\n\u001b[0;32m     15\u001b[0m     out \u001b[38;5;241m=\u001b[39m \u001b[38;5;28mself\u001b[39m\u001b[38;5;241m.\u001b[39mlinear(conv\u001b[38;5;241m.\u001b[39msqueeze())\n\u001b[0;32m     16\u001b[0m     \u001b[38;5;28;01mreturn\u001b[39;00m F\u001b[38;5;241m.\u001b[39msoftmax(out)\n",
      "File \u001b[1;32m~\\PycharmProjects\\AdClassificationProject\\venv\\lib\\site-packages\\torch\\nn\\modules\\module.py:1190\u001b[0m, in \u001b[0;36mModule._call_impl\u001b[1;34m(self, *input, **kwargs)\u001b[0m\n\u001b[0;32m   1186\u001b[0m \u001b[38;5;66;03m# If we don't have any hooks, we want to skip the rest of the logic in\u001b[39;00m\n\u001b[0;32m   1187\u001b[0m \u001b[38;5;66;03m# this function, and just call forward.\u001b[39;00m\n\u001b[0;32m   1188\u001b[0m \u001b[38;5;28;01mif\u001b[39;00m \u001b[38;5;129;01mnot\u001b[39;00m (\u001b[38;5;28mself\u001b[39m\u001b[38;5;241m.\u001b[39m_backward_hooks \u001b[38;5;129;01mor\u001b[39;00m \u001b[38;5;28mself\u001b[39m\u001b[38;5;241m.\u001b[39m_forward_hooks \u001b[38;5;129;01mor\u001b[39;00m \u001b[38;5;28mself\u001b[39m\u001b[38;5;241m.\u001b[39m_forward_pre_hooks \u001b[38;5;129;01mor\u001b[39;00m _global_backward_hooks\n\u001b[0;32m   1189\u001b[0m         \u001b[38;5;129;01mor\u001b[39;00m _global_forward_hooks \u001b[38;5;129;01mor\u001b[39;00m _global_forward_pre_hooks):\n\u001b[1;32m-> 1190\u001b[0m     \u001b[38;5;28;01mreturn\u001b[39;00m forward_call(\u001b[38;5;241m*\u001b[39m\u001b[38;5;28minput\u001b[39m, \u001b[38;5;241m*\u001b[39m\u001b[38;5;241m*\u001b[39mkwargs)\n\u001b[0;32m   1191\u001b[0m \u001b[38;5;66;03m# Do not call functions when jit is used\u001b[39;00m\n\u001b[0;32m   1192\u001b[0m full_backward_hooks, non_full_backward_hooks \u001b[38;5;241m=\u001b[39m [], []\n",
      "File \u001b[1;32m~\\PycharmProjects\\AdClassificationProject\\venv\\lib\\site-packages\\torch\\nn\\modules\\container.py:204\u001b[0m, in \u001b[0;36mSequential.forward\u001b[1;34m(self, input)\u001b[0m\n\u001b[0;32m    202\u001b[0m \u001b[38;5;28;01mdef\u001b[39;00m \u001b[38;5;21mforward\u001b[39m(\u001b[38;5;28mself\u001b[39m, \u001b[38;5;28minput\u001b[39m):\n\u001b[0;32m    203\u001b[0m     \u001b[38;5;28;01mfor\u001b[39;00m module \u001b[38;5;129;01min\u001b[39;00m \u001b[38;5;28mself\u001b[39m:\n\u001b[1;32m--> 204\u001b[0m         \u001b[38;5;28minput\u001b[39m \u001b[38;5;241m=\u001b[39m \u001b[43mmodule\u001b[49m\u001b[43m(\u001b[49m\u001b[38;5;28;43minput\u001b[39;49m\u001b[43m)\u001b[49m\n\u001b[0;32m    205\u001b[0m     \u001b[38;5;28;01mreturn\u001b[39;00m \u001b[38;5;28minput\u001b[39m\n",
      "File \u001b[1;32m~\\PycharmProjects\\AdClassificationProject\\venv\\lib\\site-packages\\torch\\nn\\modules\\module.py:1190\u001b[0m, in \u001b[0;36mModule._call_impl\u001b[1;34m(self, *input, **kwargs)\u001b[0m\n\u001b[0;32m   1186\u001b[0m \u001b[38;5;66;03m# If we don't have any hooks, we want to skip the rest of the logic in\u001b[39;00m\n\u001b[0;32m   1187\u001b[0m \u001b[38;5;66;03m# this function, and just call forward.\u001b[39;00m\n\u001b[0;32m   1188\u001b[0m \u001b[38;5;28;01mif\u001b[39;00m \u001b[38;5;129;01mnot\u001b[39;00m (\u001b[38;5;28mself\u001b[39m\u001b[38;5;241m.\u001b[39m_backward_hooks \u001b[38;5;129;01mor\u001b[39;00m \u001b[38;5;28mself\u001b[39m\u001b[38;5;241m.\u001b[39m_forward_hooks \u001b[38;5;129;01mor\u001b[39;00m \u001b[38;5;28mself\u001b[39m\u001b[38;5;241m.\u001b[39m_forward_pre_hooks \u001b[38;5;129;01mor\u001b[39;00m _global_backward_hooks\n\u001b[0;32m   1189\u001b[0m         \u001b[38;5;129;01mor\u001b[39;00m _global_forward_hooks \u001b[38;5;129;01mor\u001b[39;00m _global_forward_pre_hooks):\n\u001b[1;32m-> 1190\u001b[0m     \u001b[38;5;28;01mreturn\u001b[39;00m forward_call(\u001b[38;5;241m*\u001b[39m\u001b[38;5;28minput\u001b[39m, \u001b[38;5;241m*\u001b[39m\u001b[38;5;241m*\u001b[39mkwargs)\n\u001b[0;32m   1191\u001b[0m \u001b[38;5;66;03m# Do not call functions when jit is used\u001b[39;00m\n\u001b[0;32m   1192\u001b[0m full_backward_hooks, non_full_backward_hooks \u001b[38;5;241m=\u001b[39m [], []\n",
      "File \u001b[1;32m~\\PycharmProjects\\AdClassificationProject\\venv\\lib\\site-packages\\torch\\nn\\modules\\conv.py:313\u001b[0m, in \u001b[0;36mConv1d.forward\u001b[1;34m(self, input)\u001b[0m\n\u001b[0;32m    312\u001b[0m \u001b[38;5;28;01mdef\u001b[39;00m \u001b[38;5;21mforward\u001b[39m(\u001b[38;5;28mself\u001b[39m, \u001b[38;5;28minput\u001b[39m: Tensor) \u001b[38;5;241m-\u001b[39m\u001b[38;5;241m>\u001b[39m Tensor:\n\u001b[1;32m--> 313\u001b[0m     \u001b[38;5;28;01mreturn\u001b[39;00m \u001b[38;5;28;43mself\u001b[39;49m\u001b[38;5;241;43m.\u001b[39;49m\u001b[43m_conv_forward\u001b[49m\u001b[43m(\u001b[49m\u001b[38;5;28;43minput\u001b[39;49m\u001b[43m,\u001b[49m\u001b[43m \u001b[49m\u001b[38;5;28;43mself\u001b[39;49m\u001b[38;5;241;43m.\u001b[39;49m\u001b[43mweight\u001b[49m\u001b[43m,\u001b[49m\u001b[43m \u001b[49m\u001b[38;5;28;43mself\u001b[39;49m\u001b[38;5;241;43m.\u001b[39;49m\u001b[43mbias\u001b[49m\u001b[43m)\u001b[49m\n",
      "File \u001b[1;32m~\\PycharmProjects\\AdClassificationProject\\venv\\lib\\site-packages\\torch\\nn\\modules\\conv.py:309\u001b[0m, in \u001b[0;36mConv1d._conv_forward\u001b[1;34m(self, input, weight, bias)\u001b[0m\n\u001b[0;32m    305\u001b[0m \u001b[38;5;28;01mif\u001b[39;00m \u001b[38;5;28mself\u001b[39m\u001b[38;5;241m.\u001b[39mpadding_mode \u001b[38;5;241m!=\u001b[39m \u001b[38;5;124m'\u001b[39m\u001b[38;5;124mzeros\u001b[39m\u001b[38;5;124m'\u001b[39m:\n\u001b[0;32m    306\u001b[0m     \u001b[38;5;28;01mreturn\u001b[39;00m F\u001b[38;5;241m.\u001b[39mconv1d(F\u001b[38;5;241m.\u001b[39mpad(\u001b[38;5;28minput\u001b[39m, \u001b[38;5;28mself\u001b[39m\u001b[38;5;241m.\u001b[39m_reversed_padding_repeated_twice, mode\u001b[38;5;241m=\u001b[39m\u001b[38;5;28mself\u001b[39m\u001b[38;5;241m.\u001b[39mpadding_mode),\n\u001b[0;32m    307\u001b[0m                     weight, bias, \u001b[38;5;28mself\u001b[39m\u001b[38;5;241m.\u001b[39mstride,\n\u001b[0;32m    308\u001b[0m                     _single(\u001b[38;5;241m0\u001b[39m), \u001b[38;5;28mself\u001b[39m\u001b[38;5;241m.\u001b[39mdilation, \u001b[38;5;28mself\u001b[39m\u001b[38;5;241m.\u001b[39mgroups)\n\u001b[1;32m--> 309\u001b[0m \u001b[38;5;28;01mreturn\u001b[39;00m \u001b[43mF\u001b[49m\u001b[38;5;241;43m.\u001b[39;49m\u001b[43mconv1d\u001b[49m\u001b[43m(\u001b[49m\u001b[38;5;28;43minput\u001b[39;49m\u001b[43m,\u001b[49m\u001b[43m \u001b[49m\u001b[43mweight\u001b[49m\u001b[43m,\u001b[49m\u001b[43m \u001b[49m\u001b[43mbias\u001b[49m\u001b[43m,\u001b[49m\u001b[43m \u001b[49m\u001b[38;5;28;43mself\u001b[39;49m\u001b[38;5;241;43m.\u001b[39;49m\u001b[43mstride\u001b[49m\u001b[43m,\u001b[49m\n\u001b[0;32m    310\u001b[0m \u001b[43m                \u001b[49m\u001b[38;5;28;43mself\u001b[39;49m\u001b[38;5;241;43m.\u001b[39;49m\u001b[43mpadding\u001b[49m\u001b[43m,\u001b[49m\u001b[43m \u001b[49m\u001b[38;5;28;43mself\u001b[39;49m\u001b[38;5;241;43m.\u001b[39;49m\u001b[43mdilation\u001b[49m\u001b[43m,\u001b[49m\u001b[43m \u001b[49m\u001b[38;5;28;43mself\u001b[39;49m\u001b[38;5;241;43m.\u001b[39;49m\u001b[43mgroups\u001b[49m\u001b[43m)\u001b[49m\n",
      "\u001b[1;31mKeyboardInterrupt\u001b[0m: "
     ]
    }
   ],
   "source": [
    "for epoch in tqdm.notebook.tqdm(range(EPOCHS)):\n",
    "    nnet.train()\n",
    "    batches = batch_generator(train_tokens, y_train, batch_size=BATCH_SIZE)\n",
    "    for i, batch in tqdm.notebook.tqdm(enumerate(batches), total=len(train_tokens) // BATCH_SIZE):\n",
    "        pred = nnet(batch[0])\n",
    "        loss = criterion(pred, batch[1])\n",
    "        optimizer.zero_grad()\n",
    "        loss.backward()\n",
    "        optimizer.step()\n",
    "        if i % 100 == 0:\n",
    "            nnet.eval()\n",
    "            train_score = criterion(nnet(batch[0]), batch[1])\n",
    "            print(train_score.item())\n",
    "            train_scores.append(train_score.item())\n",
    "    nnet.eval()\n",
    "    test_pred_prob = nnet(test_tokens_as_matrix)\n",
    "    test_score = criterion(test_pred_prob, torch.tensor(y_test.values))\n",
    "    test_auc = roc_auc_score(y_test, test_pred_prob.detach().numpy()[:, 1])\n",
    "    test_scores.append(test_score.item())\n",
    "    test_aucs.append(test_auc.item())\n",
    "    clear_output(True)\n",
    "    print('auc', test_auc.item())\n",
    "    print('score', test_score.item())\n",
    "    plt.figure()\n",
    "    plt.plot(list(range(1, epoch + 2)), test_aucs)\n",
    "    plt.grid()\n",
    "    plt.show()"
   ]
  },
  {
   "cell_type": "code",
   "execution_count": 42,
   "id": "2d0df11e",
   "metadata": {},
   "outputs": [
    {
     "data": {
      "text/plain": [
       "0.49040794"
      ]
     },
     "execution_count": 42,
     "metadata": {},
     "output_type": "execute_result"
    }
   ],
   "source": [
    "test_pred_prob.detach().numpy()[:, 1]"
   ]
  },
  {
   "cell_type": "code",
   "execution_count": 111,
   "id": "2df46e34",
   "metadata": {},
   "outputs": [
    {
     "data": {
      "text/plain": [
       "26238"
      ]
     },
     "execution_count": 111,
     "metadata": {},
     "output_type": "execute_result"
    }
   ],
   "source": [
    "len(idx_to_word)"
   ]
  },
  {
   "cell_type": "code",
   "execution_count": 112,
   "id": "fe98b336",
   "metadata": {},
   "outputs": [
    {
     "data": {
      "text/plain": [
       "26238"
      ]
     },
     "execution_count": 112,
     "metadata": {},
     "output_type": "execute_result"
    }
   ],
   "source": [
    "len(word_to_idx)"
   ]
  },
  {
   "cell_type": "code",
   "execution_count": 159,
   "id": "bc6c3600",
   "metadata": {},
   "outputs": [],
   "source": [
    "a = pd.Series([2, 4 ,6])"
   ]
  },
  {
   "cell_type": "code",
   "execution_count": 164,
   "id": "d81a483c",
   "metadata": {},
   "outputs": [
    {
     "data": {
      "text/plain": [
       "0    2\n",
       "1    4\n",
       "dtype: int64"
      ]
     },
     "execution_count": 164,
     "metadata": {},
     "output_type": "execute_result"
    }
   ],
   "source": [
    "a[0:2]"
   ]
  },
  {
   "cell_type": "code",
   "execution_count": 39,
   "id": "aa8642cb",
   "metadata": {},
   "outputs": [
    {
     "data": {
      "text/plain": [
       "[0.5069428522072333,\n",
       " 0.5086766022268636,\n",
       " 0.509926661117829,\n",
       " 0.5107370008009171,\n",
       " 0.511415424721642]"
      ]
     },
     "execution_count": 39,
     "metadata": {},
     "output_type": "execute_result"
    }
   ],
   "source": [
    "test_aucs"
   ]
  },
  {
   "cell_type": "code",
   "execution_count": 32,
   "id": "393c922a",
   "metadata": {},
   "outputs": [
    {
     "data": {
      "text/plain": [
       "[0.6600728631019592,\n",
       " 0.4007129967212677,\n",
       " 0.327924907207489,\n",
       " 0.4454953372478485,\n",
       " 0.4434063136577606,\n",
       " 0.4428127706050873,\n",
       " 0.3815501928329468,\n",
       " 0.31785848736763,\n",
       " 0.4413078725337982,\n",
       " 0.4408470094203949,\n",
       " 0.44060054421424866,\n",
       " 0.3793952763080597,\n",
       " 0.3159817159175873,\n",
       " 0.44021323323249817,\n",
       " 0.4400232434272766,\n",
       " 0.43983492255210876,\n",
       " 0.3785136044025421,\n",
       " 0.3151882290840149,\n",
       " 0.43970203399658203,\n",
       " 0.43960872292518616,\n",
       " 0.43944457173347473,\n",
       " 0.37802067399024963,\n",
       " 0.3147495687007904,\n",
       " 0.43940430879592896,\n",
       " 0.4393566846847534,\n",
       " 0.43920761346817017,\n",
       " 0.37770044803619385,\n",
       " 0.3144715130329132,\n",
       " 0.4392089545726776,\n",
       " 0.4391865134239197,\n",
       " 0.4390483498573303,\n",
       " 0.37747323513031006,\n",
       " 0.31427961587905884,\n",
       " 0.43907058238983154,\n",
       " 0.4390633702278137,\n",
       " 0.43893393874168396,\n",
       " 0.3773021996021271,\n",
       " 0.31413912773132324,\n",
       " 0.43896737694740295,\n",
       " 0.4389699101448059]"
      ]
     },
     "execution_count": 32,
     "metadata": {},
     "output_type": "execute_result"
    }
   ],
   "source": [
    "train_scores"
   ]
  },
  {
   "cell_type": "code",
   "execution_count": 33,
   "id": "40b2442d",
   "metadata": {},
   "outputs": [
    {
     "data": {
      "text/plain": [
       "[0.41384273767471313,\n",
       " 0.41155973076820374,\n",
       " 0.410771906375885,\n",
       " 0.4103677570819855,\n",
       " 0.4101196527481079,\n",
       " 0.40995094180107117,\n",
       " 0.4098280072212219]"
      ]
     },
     "execution_count": 33,
     "metadata": {},
     "output_type": "execute_result"
    }
   ],
   "source": [
    "test_scores"
   ]
  },
  {
   "cell_type": "code",
   "execution_count": null,
   "id": "62704706",
   "metadata": {},
   "outputs": [],
   "source": []
  }
 ],
 "metadata": {
  "kernelspec": {
   "display_name": "adsnlpproject",
   "language": "python",
   "name": "adsnlpproject"
  },
  "language_info": {
   "codemirror_mode": {
    "name": "ipython",
    "version": 3
   },
   "file_extension": ".py",
   "mimetype": "text/x-python",
   "name": "python",
   "nbconvert_exporter": "python",
   "pygments_lexer": "ipython3",
   "version": "3.10.6"
  }
 },
 "nbformat": 4,
 "nbformat_minor": 5
}
