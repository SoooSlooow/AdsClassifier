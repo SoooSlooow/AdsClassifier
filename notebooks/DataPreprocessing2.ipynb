{
 "cells": [
  {
   "cell_type": "code",
   "execution_count": 12,
   "id": "50a87969",
   "metadata": {},
   "outputs": [],
   "source": [
    "import pandas as pd\n",
    "import numpy as np\n",
    "import matplotlib.pyplot as plt\n",
    "\n",
    "import nlpaug.augmenter.char as nac\n",
    "import nlpaug.augmenter.word as naw\n",
    "import nlpaug.augmenter.sentence as nas\n",
    "\n",
    "from sklearn.model_selection import train_test_split\n",
    "\n",
    "import tqdm"
   ]
  },
  {
   "cell_type": "code",
   "execution_count": 18,
   "id": "54364458",
   "metadata": {},
   "outputs": [],
   "source": [
    "DATA_PATH = '../data/raw/labeled_texts_fixed_binary.csv'\n",
    "DATA_DIR = '../data/raw'"
   ]
  },
  {
   "cell_type": "code",
   "execution_count": 3,
   "id": "5d2d4291",
   "metadata": {},
   "outputs": [],
   "source": [
    "MODEL_PATH = '../models/word2vec_embeddings/cc.ru.300.vec'"
   ]
  },
  {
   "cell_type": "code",
   "execution_count": 6,
   "id": "f056a001",
   "metadata": {},
   "outputs": [],
   "source": [
    "df = pd.read_csv(DATA_PATH)"
   ]
  },
  {
   "cell_type": "code",
   "execution_count": 8,
   "id": "72cd930c",
   "metadata": {},
   "outputs": [
    {
     "data": {
      "text/html": [
       "<div>\n",
       "<style scoped>\n",
       "    .dataframe tbody tr th:only-of-type {\n",
       "        vertical-align: middle;\n",
       "    }\n",
       "\n",
       "    .dataframe tbody tr th {\n",
       "        vertical-align: top;\n",
       "    }\n",
       "\n",
       "    .dataframe thead th {\n",
       "        text-align: right;\n",
       "    }\n",
       "</style>\n",
       "<table border=\"1\" class=\"dataframe\">\n",
       "  <thead>\n",
       "    <tr style=\"text-align: right;\">\n",
       "      <th></th>\n",
       "      <th>texts</th>\n",
       "      <th>labels</th>\n",
       "      <th>nationality</th>\n",
       "      <th>families</th>\n",
       "      <th>sex</th>\n",
       "      <th>limit</th>\n",
       "      <th>dd</th>\n",
       "      <th>joined</th>\n",
       "    </tr>\n",
       "  </thead>\n",
       "  <tbody>\n",
       "    <tr>\n",
       "      <th>0</th>\n",
       "      <td>Сдаётся студия на длительный срок в доме комфо...</td>\n",
       "      <td>Нет особенностей</td>\n",
       "      <td>0</td>\n",
       "      <td>0</td>\n",
       "      <td>0</td>\n",
       "      <td>0</td>\n",
       "      <td>['0', '0', '0', '0']</td>\n",
       "      <td>0</td>\n",
       "    </tr>\n",
       "    <tr>\n",
       "      <th>1</th>\n",
       "      <td>Раздвижной шифоньер. Сдам на долгий срок 1-к. ...</td>\n",
       "      <td>Нет особенностей</td>\n",
       "      <td>0</td>\n",
       "      <td>0</td>\n",
       "      <td>0</td>\n",
       "      <td>0</td>\n",
       "      <td>['0', '0', '0', '0']</td>\n",
       "      <td>0</td>\n",
       "    </tr>\n",
       "    <tr>\n",
       "      <th>2</th>\n",
       "      <td>Предлагается в аренду студия 30 кв.м. в СНТ Да...</td>\n",
       "      <td>Нет особенностей</td>\n",
       "      <td>0</td>\n",
       "      <td>0</td>\n",
       "      <td>0</td>\n",
       "      <td>0</td>\n",
       "      <td>['0', '0', '0', '0']</td>\n",
       "      <td>0</td>\n",
       "    </tr>\n",
       "    <tr>\n",
       "      <th>3</th>\n",
       "      <td>Сдается замечательная, светлая, просторная одн...</td>\n",
       "      <td>Нет особенностей</td>\n",
       "      <td>0</td>\n",
       "      <td>0</td>\n",
       "      <td>0</td>\n",
       "      <td>0</td>\n",
       "      <td>['0', '0', '0', '0']</td>\n",
       "      <td>0</td>\n",
       "    </tr>\n",
       "    <tr>\n",
       "      <th>4</th>\n",
       "      <td>МЕТРО 5 мин пешком!Сдается уютная , светлая кв...</td>\n",
       "      <td>Предпочтение славянам</td>\n",
       "      <td>1</td>\n",
       "      <td>0</td>\n",
       "      <td>0</td>\n",
       "      <td>0</td>\n",
       "      <td>['1', '0', '0', '0']</td>\n",
       "      <td>1000</td>\n",
       "    </tr>\n",
       "  </tbody>\n",
       "</table>\n",
       "</div>"
      ],
      "text/plain": [
       "                                               texts                 labels  \\\n",
       "0  Сдаётся студия на длительный срок в доме комфо...       Нет особенностей   \n",
       "1  Раздвижной шифоньер. Сдам на долгий срок 1-к. ...       Нет особенностей   \n",
       "2  Предлагается в аренду студия 30 кв.м. в СНТ Да...       Нет особенностей   \n",
       "3  Сдается замечательная, светлая, просторная одн...       Нет особенностей   \n",
       "4  МЕТРО 5 мин пешком!Сдается уютная , светлая кв...  Предпочтение славянам   \n",
       "\n",
       "   nationality  families  sex  limit                    dd  joined  \n",
       "0            0         0    0      0  ['0', '0', '0', '0']       0  \n",
       "1            0         0    0      0  ['0', '0', '0', '0']       0  \n",
       "2            0         0    0      0  ['0', '0', '0', '0']       0  \n",
       "3            0         0    0      0  ['0', '0', '0', '0']       0  \n",
       "4            1         0    0      0  ['1', '0', '0', '0']    1000  "
      ]
     },
     "execution_count": 8,
     "metadata": {},
     "output_type": "execute_result"
    }
   ],
   "source": [
    "df.head()"
   ]
  },
  {
   "cell_type": "markdown",
   "id": "338158dc",
   "metadata": {},
   "source": [
    "# Национальность"
   ]
  },
  {
   "cell_type": "code",
   "execution_count": 9,
   "id": "14bfc15f",
   "metadata": {},
   "outputs": [],
   "source": [
    "nationality_df = df[['texts', 'nationality']]"
   ]
  },
  {
   "cell_type": "code",
   "execution_count": 11,
   "id": "14da4865",
   "metadata": {},
   "outputs": [
    {
     "data": {
      "text/html": [
       "<div>\n",
       "<style scoped>\n",
       "    .dataframe tbody tr th:only-of-type {\n",
       "        vertical-align: middle;\n",
       "    }\n",
       "\n",
       "    .dataframe tbody tr th {\n",
       "        vertical-align: top;\n",
       "    }\n",
       "\n",
       "    .dataframe thead th {\n",
       "        text-align: right;\n",
       "    }\n",
       "</style>\n",
       "<table border=\"1\" class=\"dataframe\">\n",
       "  <thead>\n",
       "    <tr style=\"text-align: right;\">\n",
       "      <th></th>\n",
       "      <th>texts</th>\n",
       "      <th>nationality</th>\n",
       "    </tr>\n",
       "  </thead>\n",
       "  <tbody>\n",
       "    <tr>\n",
       "      <th>0</th>\n",
       "      <td>Сдаётся студия на длительный срок в доме комфо...</td>\n",
       "      <td>0</td>\n",
       "    </tr>\n",
       "    <tr>\n",
       "      <th>1</th>\n",
       "      <td>Раздвижной шифоньер. Сдам на долгий срок 1-к. ...</td>\n",
       "      <td>0</td>\n",
       "    </tr>\n",
       "    <tr>\n",
       "      <th>2</th>\n",
       "      <td>Предлагается в аренду студия 30 кв.м. в СНТ Да...</td>\n",
       "      <td>0</td>\n",
       "    </tr>\n",
       "    <tr>\n",
       "      <th>3</th>\n",
       "      <td>Сдается замечательная, светлая, просторная одн...</td>\n",
       "      <td>0</td>\n",
       "    </tr>\n",
       "    <tr>\n",
       "      <th>4</th>\n",
       "      <td>МЕТРО 5 мин пешком!Сдается уютная , светлая кв...</td>\n",
       "      <td>1</td>\n",
       "    </tr>\n",
       "  </tbody>\n",
       "</table>\n",
       "</div>"
      ],
      "text/plain": [
       "                                               texts  nationality\n",
       "0  Сдаётся студия на длительный срок в доме комфо...            0\n",
       "1  Раздвижной шифоньер. Сдам на долгий срок 1-к. ...            0\n",
       "2  Предлагается в аренду студия 30 кв.м. в СНТ Да...            0\n",
       "3  Сдается замечательная, светлая, просторная одн...            0\n",
       "4  МЕТРО 5 мин пешком!Сдается уютная , светлая кв...            1"
      ]
     },
     "execution_count": 11,
     "metadata": {},
     "output_type": "execute_result"
    }
   ],
   "source": [
    "nationality_df.head()"
   ]
  },
  {
   "cell_type": "code",
   "execution_count": 16,
   "id": "1de1f6c8",
   "metadata": {},
   "outputs": [],
   "source": [
    "train_nationality_df, test_nationality_df = train_test_split(nationality_df, test_size=0.3,\n",
    "                                                             stratify=nationality_df['nationality'])"
   ]
  },
  {
   "cell_type": "code",
   "execution_count": 23,
   "id": "f1aa8e00",
   "metadata": {},
   "outputs": [],
   "source": [
    "train_nationality_df = train_nationality_df.reset_index(drop=True)\n",
    "test_nationality_df = test_nationality_df.reset_index(drop=True)"
   ]
  },
  {
   "cell_type": "code",
   "execution_count": null,
   "id": "7bd70774",
   "metadata": {},
   "outputs": [],
   "source": [
    "test_nationality_df.to_csv(DATA_DIR + 'test_nationality.csv', index=False)"
   ]
  },
  {
   "cell_type": "code",
   "execution_count": 24,
   "id": "ce163af1",
   "metadata": {},
   "outputs": [
    {
     "data": {
      "text/html": [
       "<div>\n",
       "<style scoped>\n",
       "    .dataframe tbody tr th:only-of-type {\n",
       "        vertical-align: middle;\n",
       "    }\n",
       "\n",
       "    .dataframe tbody tr th {\n",
       "        vertical-align: top;\n",
       "    }\n",
       "\n",
       "    .dataframe thead th {\n",
       "        text-align: right;\n",
       "    }\n",
       "</style>\n",
       "<table border=\"1\" class=\"dataframe\">\n",
       "  <thead>\n",
       "    <tr style=\"text-align: right;\">\n",
       "      <th></th>\n",
       "      <th>texts</th>\n",
       "      <th>nationality</th>\n",
       "    </tr>\n",
       "  </thead>\n",
       "  <tbody>\n",
       "    <tr>\n",
       "      <th>0</th>\n",
       "      <td>Прекрасный угловой апартамент в потрясающем не...</td>\n",
       "      <td>0</td>\n",
       "    </tr>\n",
       "    <tr>\n",
       "      <th>1</th>\n",
       "      <td>Сдается студия,  Стиральная машина в коридоре....</td>\n",
       "      <td>1</td>\n",
       "    </tr>\n",
       "    <tr>\n",
       "      <th>2</th>\n",
       "      <td>Moscow City! Высокий этаж, не забываемый вид н...</td>\n",
       "      <td>0</td>\n",
       "    </tr>\n",
       "    <tr>\n",
       "      <th>3</th>\n",
       "      <td>Кухня-гостиная и две изолированные спальни. По...</td>\n",
       "      <td>0</td>\n",
       "    </tr>\n",
       "    <tr>\n",
       "      <th>4</th>\n",
       "      <td>ID 44193 В аренду предлагается стильная 4-комн...</td>\n",
       "      <td>0</td>\n",
       "    </tr>\n",
       "  </tbody>\n",
       "</table>\n",
       "</div>"
      ],
      "text/plain": [
       "                                               texts  nationality\n",
       "0  Прекрасный угловой апартамент в потрясающем не...            0\n",
       "1  Сдается студия,  Стиральная машина в коридоре....            1\n",
       "2  Moscow City! Высокий этаж, не забываемый вид н...            0\n",
       "3  Кухня-гостиная и две изолированные спальни. По...            0\n",
       "4  ID 44193 В аренду предлагается стильная 4-комн...            0"
      ]
     },
     "execution_count": 24,
     "metadata": {},
     "output_type": "execute_result"
    }
   ],
   "source": [
    "train_nationality_df.head()"
   ]
  },
  {
   "cell_type": "code",
   "execution_count": 19,
   "id": "8d7c2494",
   "metadata": {},
   "outputs": [
    {
     "data": {
      "text/plain": [
       "0.10286399760083971"
      ]
     },
     "execution_count": 19,
     "metadata": {},
     "output_type": "execute_result"
    }
   ],
   "source": [
    "train_nationality_df['nationality'].sum() / len(train_nationality_df)"
   ]
  },
  {
   "cell_type": "code",
   "execution_count": 20,
   "id": "cadc91e7",
   "metadata": {},
   "outputs": [
    {
     "data": {
      "text/plain": [
       "0.10283315844700944"
      ]
     },
     "execution_count": 20,
     "metadata": {},
     "output_type": "execute_result"
    }
   ],
   "source": [
    "test_nationality_df['nationality'].sum() / len(test_nationality_df)"
   ]
  },
  {
   "cell_type": "code",
   "execution_count": 35,
   "id": "f40c85f1",
   "metadata": {},
   "outputs": [],
   "source": [
    "pos_labels_fraction = test_nationality_df['nationality'].sum() / len(test_nationality_df)\n",
    "labels_ratio = (1 - pos_labels_fraction) / pos_labels_fraction\n",
    "n_texts_to_generate = int(labels_ratio)"
   ]
  },
  {
   "cell_type": "code",
   "execution_count": 27,
   "id": "06672eb3",
   "metadata": {},
   "outputs": [],
   "source": [
    "positive_texts = train_nationality_df[train_nationality_df['nationality'] == 1]['texts'].values"
   ]
  },
  {
   "cell_type": "code",
   "execution_count": 42,
   "id": "9e179d2d",
   "metadata": {},
   "outputs": [
    {
     "name": "stdout",
     "output_type": "stream",
     "text": [
      "CPU times: total: 0 ns\n",
      "Wall time: 0 ns\n"
     ]
    }
   ],
   "source": [
    "%%time\n",
    "aug = naw.WordEmbsAug(model_type='fasttext', model_path=MODEL_PATH, action=\"substitute\", top_k=10,\n",
    "                      stopwords=['не', 'или', 'и'])"
   ]
  },
  {
   "cell_type": "code",
   "execution_count": 70,
   "id": "89ead534",
   "metadata": {},
   "outputs": [
    {
     "name": "stdout",
     "output_type": "stream",
     "text": [
      "Original:\n",
      "Сдается студия,  Стиральная машина в коридоре. В студии шкаф, стол,кровать, кухня, сан.узел. На длителтный срок. Без привода гостей. Одну женщину, спокойную, адекватную, РФ. Собственница проживает в соседней студии. Риелторам просьба не беспокоить. Пишите сообщения.Залог 15тыс. Пишите, не всегда могу ответить на звонки. Пожалуйста читайте об'явление - только женщине, одной! Это значит НЕ СЕМЕЙНОЙ ПАРЕ , НЕ МУЖЧИНАМ !!!\n",
      "Augmented Texts:\n",
      "[\"сдается студия, стиральная машина в коридоре. 5.В студии шкаф-купе, стульчик, кровать, кухня, сан.. узел. на длителтный срок. без привода гостей. одну жену, тихую, разумную, рф. собственница проживает в соседней студии. риелторам просьба не беспокоить. пишите сообщения. залогу 15тыс. пишите, не всегда могу ответить на телефонные. пожалуйста читайте об ' явление - только женщине, одной! это значит не семейной паре, не дамам! !!\", \"сдается студия, стиральная машина- в коридоре. в студии шкаф, столу, кровать, кухня, сане. узел. Hа длителтный срок. без привода гостей. одну женщину, спокойную, адекватную, рф. пенсионерка проживает в соседней арт-студии. риелторам просьба не беспокоить. пишите смс-сообщения. залог 15тыс. пишите, не всегда можешь утвердительно на звонки. пожалуйста читайте об ' явление - только жене, одной! это значит не семейной паре, не мужчинам! !!\", \"сдается студия, стиральная автомашина в коридоре. в студии шкаф, стол, кровать, ванная, сана. узел. на длителтный срок. без привода гостей. одну женщину, беспокойную, адекватную, рф. собственница проживает в южной студии. риелторам просьба не донимать. высылайте сообщения. залог 15тыс. пишите, не всегда могу ответить на звонки. пожалуйста читайте об ' явление - только женщине, другой! это это не романтической паре, не мужчинам! !!\", \"сдается студия, стиральная машина в коридоре. в студии шкафов, стол, кровать, кухня, сан. блок. на длителтный срок. без приводах гостей. одну любовницу, спокойную, адекватную, рф. собственница проживает в соседней Студией. риелторам просьба не беспокоить. пишите сообщения. залог 15тыс. присылайте, не всегда немогу ответьте на звонки. пожалуйста читайте об ' явление - хотя женщине, одной! это значит не семейной паре, не красоткам! !!\", \"сдаю студия, стиральная Машинка в коридоре. в студии шкаф, стол, кровать, кухня, сан. узел. еа длителтный сроку. без привода гостей. одну женщину, тихую, адекватную, рф. собственница проживает -в северной студии. риелторам просьба не беспокоить. пишите смс-сообщения. залог 15тыс. пишите, не всегда могу ответить на звонки. пожалуйста читайте -О ' явление - только женщине, той! это значит не семейной паре, не мужчинам! !!\", \"сдается Арт-студия, стиральная машина в коридоре. в студии шкаф, стул, кровать, кухня, сан. узлов. на длителтный срок. без привода гостей. одну женщину, спокойную, хорошую, рф. собственница проживает 6.В соседней студия. риелторам просьба не тревожить. пишите сообщения. залог 15тыс. пишите, не всегда могу ответить на вызовы. пожалуйста читайте об ' явление - только женщине, целой! ведь значит не семейной паре, не мужчинам! !!\", \"сдается студия, стиральная автомашина в коридоре. в студиях шифоньер, стол, кровать, ванная, сан. узел. на длителтный срок. без привода гостей. одну женщину, спокойную, адекватную, рф. собственница проживает 5.В соседней Студией. риелторам просьба не нервировать. пишете сообщения. залог 15тыс. пишите, не всегда могу ответить на звонки. пожалуйста перечитайте об ' явление - только женщине, одной! это значит не семейной парой, не мужчинам! !!\", \"сдается студия, стиральная машина в коридорах. в студии шкаф, стол, кровать-чердак, кухня, сан. узел. на длителтный срока. без привода гостей. одну женщину, спокойную, адекватную, рф. собственница живет в сопредельной студий. риелторам просьба не беспокоить. пишите сообщения. залог 15тыс. пишите, не всегда осмеливаюсь ответить на звонки. пожайлуста читайте об ' явление - даже девушке, одной! это значит не семейной паре, не мужчинам! !!\", \"сдается студия, стиральная легковая в коридоре. в студии шкаф, столы, кровать, кухня, сан. узел. на длителтный срок. без привода гостей. какую-то женщину, спокойную, адекватную, фмс. собственница проживает в соседней студии. риелторам прошу не побеспокоить. пишете сообщения. залогом 15тыс. пишите, не всегда могу ответить на звонок. пожалуйста читайте ще ' явление - только женщине, одной! это значит не семейной паре, не мужчинам! !!\", \"сдается студия, стиральная машина в коридоре. в студии шкаф, стол, кровать, кухня, сан. узел. на длителтный срок. без электродвигателя посетителей. целую женщину, спокойную, компетентную, рф. собственница проживаем в приграничной студии. риелторам просьба не донимать. пишите сообщения. поручительство 15тыс. пишите, не всегда могу ответить на звонки. пжл прочтете об ' явление - только женщине, одной! это значит не семейной паре, не мужчинам! !!\"]\n"
     ]
    }
   ],
   "source": [
    "augmented_texts = aug.augment(positive_texts[0].lower(), n=10)\n",
    "print(\"Original:\")\n",
    "print(positive_texts[0])\n",
    "print(\"Augmented Texts:\")\n",
    "print(augmented_texts)"
   ]
  },
  {
   "cell_type": "code",
   "execution_count": 44,
   "id": "e69565ae",
   "metadata": {},
   "outputs": [
    {
     "ename": "KeyboardInterrupt",
     "evalue": "",
     "output_type": "error",
     "traceback": [
      "\u001b[1;31m---------------------------------------------------------------------------\u001b[0m",
      "\u001b[1;31mKeyboardInterrupt\u001b[0m                         Traceback (most recent call last)",
      "File \u001b[1;32m<timed exec>:3\u001b[0m\n",
      "File \u001b[1;32m~\\PycharmProjects\\AdClassificationProject\\venv\\lib\\site-packages\\nlpaug\\base_augmenter.py:119\u001b[0m, in \u001b[0;36mAugmenter.augment\u001b[1;34m(self, data, n, num_thread)\u001b[0m\n\u001b[0;32m    115\u001b[0m \u001b[38;5;66;03m# Single input with/without multiple input\u001b[39;00m\n\u001b[0;32m    116\u001b[0m \u001b[38;5;28;01melse\u001b[39;00m:\n\u001b[0;32m    117\u001b[0m     \u001b[38;5;66;03m# Single Thread\u001b[39;00m\n\u001b[0;32m    118\u001b[0m     \u001b[38;5;28;01mif\u001b[39;00m num_thread \u001b[38;5;241m==\u001b[39m \u001b[38;5;241m1\u001b[39m:\n\u001b[1;32m--> 119\u001b[0m         augmented_results \u001b[38;5;241m=\u001b[39m [action_fx(clean_data) \u001b[38;5;28;01mfor\u001b[39;00m _ \u001b[38;5;129;01min\u001b[39;00m \u001b[38;5;28mrange\u001b[39m(n)]\n\u001b[0;32m    121\u001b[0m     \u001b[38;5;66;03m# Multi Thread\u001b[39;00m\n\u001b[0;32m    122\u001b[0m     \u001b[38;5;28;01melse\u001b[39;00m:\n\u001b[0;32m    123\u001b[0m         augmented_results \u001b[38;5;241m=\u001b[39m \u001b[38;5;28mself\u001b[39m\u001b[38;5;241m.\u001b[39m_parallel_augment(action_fx, clean_data, n\u001b[38;5;241m=\u001b[39mn, num_thread\u001b[38;5;241m=\u001b[39mnum_thread)\n",
      "File \u001b[1;32m~\\PycharmProjects\\AdClassificationProject\\venv\\lib\\site-packages\\nlpaug\\base_augmenter.py:119\u001b[0m, in \u001b[0;36m<listcomp>\u001b[1;34m(.0)\u001b[0m\n\u001b[0;32m    115\u001b[0m \u001b[38;5;66;03m# Single input with/without multiple input\u001b[39;00m\n\u001b[0;32m    116\u001b[0m \u001b[38;5;28;01melse\u001b[39;00m:\n\u001b[0;32m    117\u001b[0m     \u001b[38;5;66;03m# Single Thread\u001b[39;00m\n\u001b[0;32m    118\u001b[0m     \u001b[38;5;28;01mif\u001b[39;00m num_thread \u001b[38;5;241m==\u001b[39m \u001b[38;5;241m1\u001b[39m:\n\u001b[1;32m--> 119\u001b[0m         augmented_results \u001b[38;5;241m=\u001b[39m [\u001b[43maction_fx\u001b[49m\u001b[43m(\u001b[49m\u001b[43mclean_data\u001b[49m\u001b[43m)\u001b[49m \u001b[38;5;28;01mfor\u001b[39;00m _ \u001b[38;5;129;01min\u001b[39;00m \u001b[38;5;28mrange\u001b[39m(n)]\n\u001b[0;32m    121\u001b[0m     \u001b[38;5;66;03m# Multi Thread\u001b[39;00m\n\u001b[0;32m    122\u001b[0m     \u001b[38;5;28;01melse\u001b[39;00m:\n\u001b[0;32m    123\u001b[0m         augmented_results \u001b[38;5;241m=\u001b[39m \u001b[38;5;28mself\u001b[39m\u001b[38;5;241m.\u001b[39m_parallel_augment(action_fx, clean_data, n\u001b[38;5;241m=\u001b[39mn, num_thread\u001b[38;5;241m=\u001b[39mnum_thread)\n",
      "File \u001b[1;32m~\\PycharmProjects\\AdClassificationProject\\venv\\lib\\site-packages\\nlpaug\\augmenter\\word\\word_embs.py:155\u001b[0m, in \u001b[0;36mWordEmbsAug.substitute\u001b[1;34m(self, data)\u001b[0m\n\u001b[0;32m    153\u001b[0m \u001b[38;5;28;01mfor\u001b[39;00m aug_idx \u001b[38;5;129;01min\u001b[39;00m aug_idxes:\n\u001b[0;32m    154\u001b[0m     original_token \u001b[38;5;241m=\u001b[39m doc\u001b[38;5;241m.\u001b[39mget_token(aug_idx)\u001b[38;5;241m.\u001b[39mget_latest_token()\u001b[38;5;241m.\u001b[39mtoken\n\u001b[1;32m--> 155\u001b[0m     candidate_tokens \u001b[38;5;241m=\u001b[39m \u001b[38;5;28;43mself\u001b[39;49m\u001b[38;5;241;43m.\u001b[39;49m\u001b[43mmodel\u001b[49m\u001b[38;5;241;43m.\u001b[39;49m\u001b[43mpredict\u001b[49m\u001b[43m(\u001b[49m\u001b[43moriginal_token\u001b[49m\u001b[43m,\u001b[49m\u001b[43m \u001b[49m\u001b[43mn\u001b[49m\u001b[38;5;241;43m=\u001b[39;49m\u001b[38;5;241;43m1\u001b[39;49m\u001b[43m)\u001b[49m\n\u001b[0;32m    156\u001b[0m     substitute_token \u001b[38;5;241m=\u001b[39m \u001b[38;5;28mself\u001b[39m\u001b[38;5;241m.\u001b[39msample(candidate_tokens, \u001b[38;5;241m1\u001b[39m)[\u001b[38;5;241m0\u001b[39m]\n\u001b[0;32m    157\u001b[0m     \u001b[38;5;28;01mif\u001b[39;00m aug_idx \u001b[38;5;241m==\u001b[39m \u001b[38;5;241m0\u001b[39m:\n",
      "File \u001b[1;32m~\\PycharmProjects\\AdClassificationProject\\venv\\lib\\site-packages\\nlpaug\\model\\word_embs\\word_embeddings.py:36\u001b[0m, in \u001b[0;36mWordEmbeddings.predict\u001b[1;34m(self, word, n)\u001b[0m\n\u001b[0;32m     35\u001b[0m \u001b[38;5;28;01mdef\u001b[39;00m \u001b[38;5;21mpredict\u001b[39m(\u001b[38;5;28mself\u001b[39m, word, n\u001b[38;5;241m=\u001b[39m\u001b[38;5;241m1\u001b[39m):\n\u001b[1;32m---> 36\u001b[0m     result \u001b[38;5;241m=\u001b[39m \u001b[38;5;28;43mself\u001b[39;49m\u001b[38;5;241;43m.\u001b[39;49m\u001b[43mmodel\u001b[49m\u001b[38;5;241;43m.\u001b[39;49m\u001b[43mmost_similar\u001b[49m\u001b[43m(\u001b[49m\u001b[43mword\u001b[49m\u001b[43m,\u001b[49m\u001b[43m \u001b[49m\u001b[43mtopn\u001b[49m\u001b[38;5;241;43m=\u001b[39;49m\u001b[38;5;28;43mself\u001b[39;49m\u001b[38;5;241;43m.\u001b[39;49m\u001b[43mtop_k\u001b[49m\u001b[38;5;241;43m+\u001b[39;49m\u001b[38;5;241;43m1\u001b[39;49m\u001b[43m)\u001b[49m\n\u001b[0;32m     37\u001b[0m     result \u001b[38;5;241m=\u001b[39m [w \u001b[38;5;28;01mfor\u001b[39;00m w, s \u001b[38;5;129;01min\u001b[39;00m result \u001b[38;5;28;01mif\u001b[39;00m w\u001b[38;5;241m.\u001b[39mlower() \u001b[38;5;241m!=\u001b[39m word\u001b[38;5;241m.\u001b[39mlower()]\n\u001b[0;32m     38\u001b[0m     \u001b[38;5;28;01mreturn\u001b[39;00m result[:\u001b[38;5;28mself\u001b[39m\u001b[38;5;241m.\u001b[39mtop_k]\n",
      "File \u001b[1;32m~\\PycharmProjects\\AdClassificationProject\\venv\\lib\\site-packages\\gensim\\models\\keyedvectors.py:850\u001b[0m, in \u001b[0;36mKeyedVectors.most_similar\u001b[1;34m(self, positive, negative, topn, clip_start, clip_end, restrict_vocab, indexer)\u001b[0m\n\u001b[0;32m    847\u001b[0m \u001b[38;5;28;01mif\u001b[39;00m indexer \u001b[38;5;129;01mis\u001b[39;00m \u001b[38;5;129;01mnot\u001b[39;00m \u001b[38;5;28;01mNone\u001b[39;00m \u001b[38;5;129;01mand\u001b[39;00m \u001b[38;5;28misinstance\u001b[39m(topn, \u001b[38;5;28mint\u001b[39m):\n\u001b[0;32m    848\u001b[0m     \u001b[38;5;28;01mreturn\u001b[39;00m indexer\u001b[38;5;241m.\u001b[39mmost_similar(mean, topn)\n\u001b[1;32m--> 850\u001b[0m dists \u001b[38;5;241m=\u001b[39m \u001b[43mdot\u001b[49m\u001b[43m(\u001b[49m\u001b[38;5;28;43mself\u001b[39;49m\u001b[38;5;241;43m.\u001b[39;49m\u001b[43mvectors\u001b[49m\u001b[43m[\u001b[49m\u001b[43mclip_start\u001b[49m\u001b[43m:\u001b[49m\u001b[43mclip_end\u001b[49m\u001b[43m]\u001b[49m\u001b[43m,\u001b[49m\u001b[43m \u001b[49m\u001b[43mmean\u001b[49m\u001b[43m)\u001b[49m \u001b[38;5;241m/\u001b[39m \u001b[38;5;28mself\u001b[39m\u001b[38;5;241m.\u001b[39mnorms[clip_start:clip_end]\n\u001b[0;32m    851\u001b[0m \u001b[38;5;28;01mif\u001b[39;00m \u001b[38;5;129;01mnot\u001b[39;00m topn:\n\u001b[0;32m    852\u001b[0m     \u001b[38;5;28;01mreturn\u001b[39;00m dists\n",
      "File \u001b[1;32m<__array_function__ internals>:180\u001b[0m, in \u001b[0;36mdot\u001b[1;34m(*args, **kwargs)\u001b[0m\n",
      "\u001b[1;31mKeyboardInterrupt\u001b[0m: "
     ]
    }
   ],
   "source": [
    "%%time\n",
    "augmented_texts = []\n",
    "for text in positive_texts:\n",
    "    augmented_texts += aug.augment(text, n=n_texts_to_generate)"
   ]
  },
  {
   "cell_type": "code",
   "execution_count": 61,
   "id": "2a24ee59",
   "metadata": {},
   "outputs": [
    {
     "data": {
      "text/plain": [
       "1"
      ]
     },
     "execution_count": 61,
     "metadata": {},
     "output_type": "execute_result"
    }
   ],
   "source": [
    "len(augmented_texts)"
   ]
  },
  {
   "cell_type": "code",
   "execution_count": 58,
   "id": "62a915ef",
   "metadata": {},
   "outputs": [],
   "source": [
    "augmented_texts_df = pd.DataFrame({'texts': augmented_texts, 'nationality': [1] * len(augmented_texts)})"
   ]
  },
  {
   "cell_type": "code",
   "execution_count": 59,
   "id": "5c255388",
   "metadata": {},
   "outputs": [
    {
     "data": {
      "text/plain": [
       "array([], dtype=object)"
      ]
     },
     "execution_count": 59,
     "metadata": {},
     "output_type": "execute_result"
    }
   ],
   "source": [
    "augmented_texts_df['texts'][20:25].values"
   ]
  },
  {
   "cell_type": "code",
   "execution_count": 62,
   "id": "4c43747c",
   "metadata": {},
   "outputs": [],
   "source": [
    "concatenated_nationality_df = pd.concat([train_nationality_df, augmented_texts_df])"
   ]
  },
  {
   "cell_type": "code",
   "execution_count": 64,
   "id": "0b6fbb0c",
   "metadata": {},
   "outputs": [
    {
     "data": {
      "text/html": [
       "<div>\n",
       "<style scoped>\n",
       "    .dataframe tbody tr th:only-of-type {\n",
       "        vertical-align: middle;\n",
       "    }\n",
       "\n",
       "    .dataframe tbody tr th {\n",
       "        vertical-align: top;\n",
       "    }\n",
       "\n",
       "    .dataframe thead th {\n",
       "        text-align: right;\n",
       "    }\n",
       "</style>\n",
       "<table border=\"1\" class=\"dataframe\">\n",
       "  <thead>\n",
       "    <tr style=\"text-align: right;\">\n",
       "      <th></th>\n",
       "      <th>texts</th>\n",
       "      <th>nationality</th>\n",
       "    </tr>\n",
       "  </thead>\n",
       "  <tbody>\n",
       "    <tr>\n",
       "      <th>0</th>\n",
       "      <td>Прекрасный угловой апартамент в потрясающем не...</td>\n",
       "      <td>0</td>\n",
       "    </tr>\n",
       "    <tr>\n",
       "      <th>1</th>\n",
       "      <td>Сдается студия,  Стиральная машина в коридоре....</td>\n",
       "      <td>1</td>\n",
       "    </tr>\n",
       "    <tr>\n",
       "      <th>2</th>\n",
       "      <td>Moscow City! Высокий этаж, не забываемый вид н...</td>\n",
       "      <td>0</td>\n",
       "    </tr>\n",
       "    <tr>\n",
       "      <th>3</th>\n",
       "      <td>Кухня-гостиная и две изолированные спальни. По...</td>\n",
       "      <td>0</td>\n",
       "    </tr>\n",
       "    <tr>\n",
       "      <th>4</th>\n",
       "      <td>ID 44193 В аренду предлагается стильная 4-комн...</td>\n",
       "      <td>0</td>\n",
       "    </tr>\n",
       "    <tr>\n",
       "      <th>...</th>\n",
       "      <td>...</td>\n",
       "      <td>...</td>\n",
       "    </tr>\n",
       "    <tr>\n",
       "      <th>6665</th>\n",
       "      <td>Лот 551403. Бонус коллегам 35.000р! Предлагает...</td>\n",
       "      <td>0</td>\n",
       "    </tr>\n",
       "    <tr>\n",
       "      <th>6666</th>\n",
       "      <td>Сдаётся 2х комнатная квартира в отличном состо...</td>\n",
       "      <td>1</td>\n",
       "    </tr>\n",
       "    <tr>\n",
       "      <th>6667</th>\n",
       "      <td>Сдаётся однокомнатная квартира, ул. Новолесная...</td>\n",
       "      <td>0</td>\n",
       "    </tr>\n",
       "    <tr>\n",
       "      <th>6668</th>\n",
       "      <td>Сдается 2-х комнатная квартира в шаговой досту...</td>\n",
       "      <td>1</td>\n",
       "    </tr>\n",
       "    <tr>\n",
       "      <th>0</th>\n",
       "      <td>Сдается студия, Стиральная машина в коридоре. ...</td>\n",
       "      <td>1</td>\n",
       "    </tr>\n",
       "  </tbody>\n",
       "</table>\n",
       "<p>6670 rows × 2 columns</p>\n",
       "</div>"
      ],
      "text/plain": [
       "                                                  texts  nationality\n",
       "0     Прекрасный угловой апартамент в потрясающем не...            0\n",
       "1     Сдается студия,  Стиральная машина в коридоре....            1\n",
       "2     Moscow City! Высокий этаж, не забываемый вид н...            0\n",
       "3     Кухня-гостиная и две изолированные спальни. По...            0\n",
       "4     ID 44193 В аренду предлагается стильная 4-комн...            0\n",
       "...                                                 ...          ...\n",
       "6665  Лот 551403. Бонус коллегам 35.000р! Предлагает...            0\n",
       "6666  Сдаётся 2х комнатная квартира в отличном состо...            1\n",
       "6667  Сдаётся однокомнатная квартира, ул. Новолесная...            0\n",
       "6668  Сдается 2-х комнатная квартира в шаговой досту...            1\n",
       "0     Сдается студия, Стиральная машина в коридоре. ...            1\n",
       "\n",
       "[6670 rows x 2 columns]"
      ]
     },
     "execution_count": 64,
     "metadata": {},
     "output_type": "execute_result"
    }
   ],
   "source": [
    "concatenated_nationality_df"
   ]
  },
  {
   "cell_type": "code",
   "execution_count": 67,
   "id": "243db438",
   "metadata": {},
   "outputs": [],
   "source": [
    "concatenated_nationality_df = pd.concat([train_nationality_df,\n",
    "                                         augmented_texts_df]) \\\n",
    "                                        .reset_index(drop=True)"
   ]
  },
  {
   "cell_type": "code",
   "execution_count": null,
   "id": "6537a81c",
   "metadata": {},
   "outputs": [],
   "source": []
  }
 ],
 "metadata": {
  "kernelspec": {
   "display_name": "adsnlpproject",
   "language": "python",
   "name": "adsnlpproject"
  },
  "language_info": {
   "codemirror_mode": {
    "name": "ipython",
    "version": 3
   },
   "file_extension": ".py",
   "mimetype": "text/x-python",
   "name": "python",
   "nbconvert_exporter": "python",
   "pygments_lexer": "ipython3",
   "version": "3.10.6"
  }
 },
 "nbformat": 4,
 "nbformat_minor": 5
}
