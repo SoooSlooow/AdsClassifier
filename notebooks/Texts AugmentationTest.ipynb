{
 "cells": [
  {
   "cell_type": "code",
   "execution_count": 21,
   "id": "e24a4c6e",
   "metadata": {},
   "outputs": [],
   "source": [
    "import numpy as np\n",
    "import pandas as pd\n",
    "import matplotlib.pyplot as plt\n",
    "\n",
    "import nlpaug.augmenter.char as nac\n",
    "import nlpaug.augmenter.word as naw\n",
    "import nlpaug.augmenter.sentence as nas\n",
    "import nlpaug.flow as nafc\n",
    "\n",
    "from nlpaug.util import Action"
   ]
  },
  {
   "cell_type": "code",
   "execution_count": 2,
   "id": "71096a1f",
   "metadata": {},
   "outputs": [],
   "source": [
    "DATA_PATH = '../data/raw/labeled_texts_fixed_binary.csv'"
   ]
  },
  {
   "cell_type": "code",
   "execution_count": 38,
   "id": "64e33595",
   "metadata": {},
   "outputs": [],
   "source": [
    "MODEL_PATH = '../models/word2vec_embeddings/cc.ru.300.vec'"
   ]
  },
  {
   "cell_type": "code",
   "execution_count": 13,
   "id": "a864dac5",
   "metadata": {},
   "outputs": [],
   "source": [
    "df = pd.read_csv(DATA_PATH)"
   ]
  },
  {
   "cell_type": "code",
   "execution_count": 14,
   "id": "152b2d6d",
   "metadata": {},
   "outputs": [],
   "source": [
    "texts = (df[df['sex'] == 1]['texts']).reset_index(drop=True)"
   ]
  },
  {
   "cell_type": "code",
   "execution_count": 22,
   "id": "4d6578fe",
   "metadata": {},
   "outputs": [],
   "source": [
    "rus_text = texts[0]\n",
    "text = 'The quick brown fox jumps over the lazy dog .'"
   ]
  },
  {
   "cell_type": "code",
   "execution_count": 23,
   "id": "a090fba1",
   "metadata": {},
   "outputs": [
    {
     "data": {
      "text/plain": [
       "'Сдается на длительный срок новая квартира (еще никто не жил) для граждан РФ, славяне - девушке или семье из 2х человек без животных и детей, других просьба не беспокоить. Залог 1 месяц. Оплата за свет и воду оплачивается отдельно. Риелторам и третьим лицам просьба не беспокоить.  Не тратьте зря свое и мое время. Звонить с 9 до 21.'"
      ]
     },
     "execution_count": 23,
     "metadata": {},
     "output_type": "execute_result"
    }
   ],
   "source": [
    "rus_text"
   ]
  },
  {
   "cell_type": "markdown",
   "id": "0ede6898",
   "metadata": {},
   "source": [
    "# Символьная аугментация"
   ]
  },
  {
   "cell_type": "code",
   "execution_count": 34,
   "id": "b6b2203e",
   "metadata": {},
   "outputs": [],
   "source": [
    "aug = nac.OcrAug()\n",
    "#aug = nac.KeyboardAug()"
   ]
  },
  {
   "cell_type": "code",
   "execution_count": 35,
   "id": "dcbb981c",
   "metadata": {},
   "outputs": [
    {
     "name": "stdout",
     "output_type": "stream",
     "text": [
      "Original:\n",
      "The quick brown fox jumps over the lazy dog .\n",
      "Augmented Text:\n",
      "['The quick brown fux jumps over the lazy dog.']\n"
     ]
    }
   ],
   "source": [
    "augmented_text = aug.augment(text)\n",
    "print(\"Original:\")\n",
    "print(text)\n",
    "print(\"Augmented Text:\")\n",
    "print(augmented_text)"
   ]
  },
  {
   "cell_type": "code",
   "execution_count": 36,
   "id": "e6f07145",
   "metadata": {},
   "outputs": [
    {
     "name": "stdout",
     "output_type": "stream",
     "text": [
      "Original:\n",
      "Сдается на длительный срок новая квартира (еще никто не жил) для граждан РФ, славяне - девушке или семье из 2х человек без животных и детей, других просьба не беспокоить. Залог 1 месяц. Оплата за свет и воду оплачивается отдельно. Риелторам и третьим лицам просьба не беспокоить.  Не тратьте зря свое и мое время. Звонить с 9 до 21.\n",
      "Augmented Text:\n",
      "['Сдается на длительный срок новая квартира (еще никто не жил) для граждан РФ, славяне - девушке или семье из zх человек без животных и детей, других просьба не беспокоить. Залог 1 месяц. Оплата за свет и воду оплачивается отдельно. Риелторам и третьим лицам просьба не беспокоить. Не тратьте зря свое и мое время. Звонить с q до 21.']\n"
     ]
    }
   ],
   "source": [
    "augmented_rus_text = aug.augment(rus_text)\n",
    "print(\"Original:\")\n",
    "print(rus_text)\n",
    "print(\"Augmented Text:\")\n",
    "print(augmented_rus_text)"
   ]
  },
  {
   "cell_type": "markdown",
   "id": "3ca2d4eb",
   "metadata": {},
   "source": [
    "# Аугментация по словам"
   ]
  },
  {
   "cell_type": "code",
   "execution_count": 70,
   "id": "bac8f27e",
   "metadata": {},
   "outputs": [],
   "source": [
    "aug = naw.SynonymAug(aug_src='wordnet', lang='rus')"
   ]
  },
  {
   "cell_type": "code",
   "execution_count": 37,
   "id": "807d3912",
   "metadata": {},
   "outputs": [
    {
     "name": "stdout",
     "output_type": "stream",
     "text": [
      "Original:\n",
      "The quick brown fox jumps over the lazy dog .\n",
      "Augmented Texts:\n",
      "['The quikly brown fox jumps other the lazy do.', 'The quick brow fox jumps over the lazing gog.', 'The quick bround fox jumps ower the lazy dof.']\n"
     ]
    }
   ],
   "source": [
    "aug = naw.SpellingAug()\n",
    "augmented_texts = aug.augment(text, n=3)\n",
    "print(\"Original:\")\n",
    "print(text)\n",
    "print(\"Augmented Texts:\")\n",
    "print(augmented_texts)"
   ]
  },
  {
   "cell_type": "code",
   "execution_count": 65,
   "id": "3475f9a8",
   "metadata": {},
   "outputs": [
    {
     "name": "stdout",
     "output_type": "stream",
     "text": [
      "CPU times: total: 0 ns\n",
      "Wall time: 521 µs\n"
     ]
    }
   ],
   "source": [
    "%%time\n",
    "aug = naw.WordEmbsAug(model_type='fasttext', model_path=MODEL_PATH, action=\"substitute\", top_k=10)"
   ]
  },
  {
   "cell_type": "code",
   "execution_count": 69,
   "id": "6a2dae56",
   "metadata": {},
   "outputs": [
    {
     "name": "stdout",
     "output_type": "stream",
     "text": [
      "Original:\n",
      "Сдается на длительный срок новая квартира (еще никто не жил) для граждан РФ, славяне - девушке или семье из 2х человек без животных и детей, других просьба не беспокоить. Залог 1 месяц. Оплата за свет и воду оплачивается отдельно. Риелторам и третьим лицам просьба не беспокоить.  Не тратьте зря свое и мое время. Звонить с 9 до 21.\n",
      "Augmented Texts:\n",
      "['1комнатная на длительный срок обновленная квартира (тоже никто не жил) для граждан РФ, славяне - девушке или семье из 2х еловек всякой животных и детей, других просьба не беспокоить. Залог 8 месяц. Оплата за свет и воду оплачивается отдельно. Риелторам и третьим лицам просьба уж беспокоить. но тратьте ведь свое и мое время. Звонить с 4 до 21.', 'Здравсвуйте вечер я диспетчеров']\n"
     ]
    }
   ],
   "source": [
    "augmented_texts = aug.augment(rus_text, n=10)\n",
    "print(\"Original:\")\n",
    "print(rus_text)\n",
    "print(\"Augmented Texts:\")\n",
    "print(augmented_texts)"
   ]
  },
  {
   "cell_type": "code",
   "execution_count": 59,
   "id": "447c8678",
   "metadata": {},
   "outputs": [],
   "source": [
    "naw.WordEmbsAug?"
   ]
  },
  {
   "cell_type": "code",
   "execution_count": 83,
   "id": "246b852f",
   "metadata": {},
   "outputs": [],
   "source": [
    "aug = naw.SynonymAug(aug_src='wordnet', lang='eng')"
   ]
  },
  {
   "cell_type": "code",
   "execution_count": 84,
   "id": "a0e2e5d2",
   "metadata": {},
   "outputs": [
    {
     "name": "stdout",
     "output_type": "stream",
     "text": [
      "Original:\n",
      "Сдается на длительный срок новая квартира (еще никто не жил) для граждан РФ, славяне - девушке или семье из 2х человек без животных и детей, других просьба не беспокоить. Залог 1 месяц. Оплата за свет и воду оплачивается отдельно. Риелторам и третьим лицам просьба не беспокоить.  Не тратьте зря свое и мое время. Звонить с 9 до 21.\n",
      "Augmented Texts:\n",
      "['Сдается на длительный срок новая квартира (еще никто не жил) для граждан РФ, славяне - девушке или семье из 2х человек без животных и детей, других просьба не беспокоить. Залог 1 месяц. Оплата за свет и воду оплачивается отдельно. Риелторам и третьим лицам просьба не беспокоить. Не тратьте зря свое и мое время. Звонить с 9 до twenty one.', 'Сдается на длительный срок новая квартира (еще никто не жил) для граждан РФ, славяне - девушке или семье из 2х человек без животных и детей, других просьба не беспокоить. Залог 1 месяц. Оплата за свет и воду оплачивается отдельно. Риелторам и третьим лицам просьба не беспокоить. Не тратьте зря свое и мое время. Звонить с 9 до 21.', 'Сдается на длительный срок новая квартира (еще никто не жил) для граждан РФ, славяне - девушке или семье из 2х человек без животных и детей, других просьба не беспокоить. Залог 1 месяц. Оплата за свет и воду оплачивается отдельно. Риелторам и третьим лицам просьба не беспокоить. Не тратьте зря свое и мое время. Звонить с 9 до twenty one.', 'Сдается на длительный срок новая квартира (еще никто не жил) для граждан РФ, славяне - девушке или семье из 2х человек без животных и детей, других просьба не беспокоить. Залог 1 месяц. Оплата за свет и воду оплачивается отдельно. Риелторам и третьим лицам просьба не беспокоить. Не тратьте зря свое и мое время. Звонить с 9 до 21.', 'Сдается на длительный срок новая квартира (еще никто не жил) для граждан РФ, славяне - девушке или семье из 2х человек без животных и детей, других просьба не беспокоить. Залог 1 месяц. Оплата за свет и воду оплачивается отдельно. Риелторам и третьим лицам просьба не беспокоить. Не тратьте зря свое и мое время. Звонить с 9 до twenty one.', 'Сдается на длительный срок новая квартира (еще никто не жил) для граждан РФ, славяне - девушке или семье из 2х человек без животных и детей, других просьба не беспокоить. Залог 1 месяц. Оплата за свет и воду оплачивается отдельно. Риелторам и третьим лицам просьба не беспокоить. Не тратьте зря свое и мое время. Звонить с 9 до 21.', 'Сдается на длительный срок новая квартира (еще никто не жил) для граждан РФ, славяне - девушке или семье из 2х человек без животных и детей, других просьба не беспокоить. Залог 1 месяц. Оплата за свет и воду оплачивается отдельно. Риелторам и третьим лицам просьба не беспокоить. Не тратьте зря свое и мое время. Звонить с 9 до 21.', 'Сдается на длительный срок новая квартира (еще никто не жил) для граждан РФ, славяне - девушке или семье из 2х человек без животных и детей, других просьба не беспокоить. Залог 1 месяц. Оплата за свет и воду оплачивается отдельно. Риелторам и третьим лицам просьба не беспокоить. Не тратьте зря свое и мое время. Звонить с ennead до 21.', 'Сдается на длительный срок новая квартира (еще никто не жил) для граждан РФ, славяне - девушке или семье из 2х человек без животных и детей, других просьба не беспокоить. Залог 1 месяц. Оплата за свет и воду оплачивается отдельно. Риелторам и третьим лицам просьба не беспокоить. Не тратьте зря свое и мое время. Звонить с 9 до 21.', 'Сдается на длительный срок новая квартира (еще никто не жил) для граждан РФ, славяне - девушке или семье из 2х человек без животных и детей, других просьба не беспокоить. Залог 1 месяц. Оплата за свет и воду оплачивается отдельно. Риелторам и третьим лицам просьба не беспокоить. Не тратьте зря свое и мое время. Звонить с 9 до 21.']\n"
     ]
    }
   ],
   "source": [
    "augmented_texts = aug.augment(rus_text, n=10)\n",
    "print(\"Original:\")\n",
    "print(rus_text)\n",
    "print(\"Augmented Texts:\")\n",
    "print(augmented_texts)"
   ]
  },
  {
   "cell_type": "code",
   "execution_count": null,
   "id": "af99a348",
   "metadata": {},
   "outputs": [],
   "source": []
  }
 ],
 "metadata": {
  "kernelspec": {
   "display_name": "adsnlpproject",
   "language": "python",
   "name": "adsnlpproject"
  },
  "language_info": {
   "codemirror_mode": {
    "name": "ipython",
    "version": 3
   },
   "file_extension": ".py",
   "mimetype": "text/x-python",
   "name": "python",
   "nbconvert_exporter": "python",
   "pygments_lexer": "ipython3",
   "version": "3.10.6"
  }
 },
 "nbformat": 4,
 "nbformat_minor": 5
}
